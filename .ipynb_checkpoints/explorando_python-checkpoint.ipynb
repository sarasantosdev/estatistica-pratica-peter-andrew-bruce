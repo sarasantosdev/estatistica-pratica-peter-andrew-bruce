{
 "cells": [
  {
   "cell_type": "markdown",
   "id": "133b25f9-0a68-447e-876b-a0d9cf1d234b",
   "metadata": {},
   "source": [
    "# Data Science do Zero: Noções Fundamentais com Python - Capítulo 2"
   ]
  },
  {
   "cell_type": "markdown",
   "id": "d5286a0e-52bb-47bf-a600-96889ae1e09a",
   "metadata": {},
   "source": [
    "### Manipulação de Listas\n",
    "\n",
    "Listas são objetos mutáveis em Python que permitem o armazenamento de uma coleção de dados que podem ser homogêneos ou heterogêneos, também é possível amarzenar em uma lista outros tipos de estrutura de dados como: Tupla, Dicionário e Conjunto. A Lista é a estrutura de dados mais utilizada pela sua flexibilidade de alteração. A indexação de uma lista em Python é iniciada em zero indo até o n-ésimo valor da lista. Para iterar em uma lista comumente utilizamos o loop for-in. Abaixo exploraremos os métodos de lista em Python, formas de iteração e outros assuntos relevantes sobre manipulação dessa estrutura de dados."
   ]
  },
  {
   "cell_type": "markdown",
   "id": "44fcec47-3702-453d-8ad9-288ebd79bad9",
   "metadata": {},
   "source": [
    "**Os dados presente em uma lista podem ser extraídos de bases de dados distintas como: arquivo csv, arquivo json, planilhas, banco de dados, api, dataframes e etc. A extração dos dados de qualquer base e o seu armazenamento em listas ajuda na manipulação individual daquele conjunto de dados.** "
   ]
  },
  {
   "cell_type": "markdown",
   "id": "82d1f9c4-ce29-4111-a75b-8b2f92d2192b",
   "metadata": {},
   "source": [
    "### Criando lista com dados extraídos de bases externas\n",
    "\n",
    "1. Arquivo CSV\n",
    "2. Arquivo JSON\n",
    "3. Planilhas (Excel e Google Sheets)\n",
    "4. Banco de Dados (PostgreSQL)\n",
    "5. API\n",
    "6. DataFrames"
   ]
  },
  {
   "cell_type": "markdown",
   "id": "f10472d1-0b5f-4b43-87aa-71ceda64dc5a",
   "metadata": {},
   "source": [
    "**Extraindo dados de um arquivo csv para análise da média de preço**"
   ]
  },
  {
   "cell_type": "code",
   "execution_count": 128,
   "id": "86238440-b660-4ed4-b5b6-558e0efe8f4a",
   "metadata": {},
   "outputs": [
    {
     "data": {
      "text/plain": [
       "np.float64(61.41)"
      ]
     },
     "execution_count": 128,
     "metadata": {},
     "output_type": "execute_result"
    }
   ],
   "source": [
    "import numpy as np\n",
    "precos = []\n",
    "with open('precos.csv', 'r') as arquivo:\n",
    "    linhas = arquivo.readlines()\n",
    "    for linha in linhas:\n",
    "        l = linha.replace('\\n', '').strip()\n",
    "        precos.append(float(l))\n",
    "\n",
    "np.mean(precos)"
   ]
  },
  {
   "cell_type": "markdown",
   "id": "e99e8755-de95-4a8b-b810-9230c9b72451",
   "metadata": {},
   "source": [
    "**Extraindo dados de um arquivo json para análise da média de idade**"
   ]
  },
  {
   "cell_type": "markdown",
   "id": "9b9ff296-2684-4e42-a0f0-3490d1320d49",
   "metadata": {},
   "source": [
    "### Manipulação de Dicionários"
   ]
  },
  {
   "cell_type": "markdown",
   "id": "2c186dbb-9f34-4742-9df8-1ff46873b194",
   "metadata": {},
   "source": [
    "### Testes Automatizados e Asserção"
   ]
  },
  {
   "cell_type": "markdown",
   "id": "92239228-8c6e-4835-885d-1dcb32847dbb",
   "metadata": {},
   "source": [
    "### Programação Orientada a Objetos"
   ]
  },
  {
   "cell_type": "code",
   "execution_count": null,
   "id": "c8d1662c-82a1-44a1-b150-0971b7077994",
   "metadata": {},
   "outputs": [],
   "source": []
  }
 ],
 "metadata": {
  "kernelspec": {
   "display_name": "Python 3 (ipykernel)",
   "language": "python",
   "name": "python3"
  },
  "language_info": {
   "codemirror_mode": {
    "name": "ipython",
    "version": 3
   },
   "file_extension": ".py",
   "mimetype": "text/x-python",
   "name": "python",
   "nbconvert_exporter": "python",
   "pygments_lexer": "ipython3",
   "version": "3.13.7"
  }
 },
 "nbformat": 4,
 "nbformat_minor": 5
}
