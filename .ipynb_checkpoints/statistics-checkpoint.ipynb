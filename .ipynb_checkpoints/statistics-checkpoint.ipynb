{
 "cells": [
  {
   "cell_type": "markdown",
   "id": "c04c7903-0f46-4ff7-a5eb-2c9b50e0fc11",
   "metadata": {},
   "source": [
    "# Estatistica Prática para Cientista de Dados: 50 conceitos essenciais"
   ]
  },
  {
   "cell_type": "markdown",
   "id": "db9b82b9-1f19-4c09-8436-787f3aebd64d",
   "metadata": {},
   "source": [
    "## Capítulo 1: Análise Exploratória de Dados"
   ]
  },
  {
   "cell_type": "markdown",
   "id": "8b5a9810-73ca-41ec-bb56-5ff20b66373e",
   "metadata": {},
   "source": [
    "### Estimativas de Localização (tendência central)\n",
    "É comum as variáveis apresentarem valores distintos, para que possamos ter um valor central onde os dados se concentram utilizamos as estimativas de localização, as mais utilizadas são: média aritmética, média aparada, média ponderada, mediana e mediana ponderada. Abaixo realizo o cálculo da média aritmética e a média aparada para que possamos compreender o impacto dos valores extremos."
   ]
  },
  {
   "cell_type": "markdown",
   "id": "8c536b2d-3289-4aa3-af99-bdaabc43cb0f",
   "metadata": {},
   "source": [
    "### Média aritmética\n",
    "É a média mais simples. Calcula-se a soma dos valores e divide pelo total de valores. Apesar de ser simples, é uma medida sensível a outliers inferiores e superiores, o que pode distorcer o resultado final, por isso foram desenvolvidas outras medidas como alternativa a média para que possamos ser o mais próximo do valor central possível.\n",
    "\n",
    "Outliers altos podem elevar o resultado da média, enquanto que outliers baixos podem decair o resultado da média, é preciso portanto haver uma espécie de \"equilíbrio\" entre os valores. Abaixo calculo a média aritmética de uma lista com dois outliers."
   ]
  },
  {
   "cell_type": "code",
   "execution_count": 1,
   "id": "d063c27f-93b9-4b35-839c-f3454b7a4863",
   "metadata": {},
   "outputs": [],
   "source": [
    "numeros = [12, 15, 14, 13, 16, 18, 20, 22, 19, 17, 14, 13, 15, 16, 200, 21, 23, 24, 22, 18, 17, 16, 15, 14, 13, 12, 11, 10, 9, -50]"
   ]
  },
  {
   "cell_type": "code",
   "execution_count": 2,
   "id": "2c80e78f-89b3-4d4f-9827-e3636ec6cd8d",
   "metadata": {},
   "outputs": [],
   "source": [
    "soma  = 0\n",
    "media = 0"
   ]
  },
  {
   "cell_type": "code",
   "execution_count": 3,
   "id": "2df4668d-3c7f-403e-b635-f94243cb1503",
   "metadata": {},
   "outputs": [
    {
     "name": "stdout",
     "output_type": "stream",
     "text": [
      "19.97\n"
     ]
    }
   ],
   "source": [
    "for n in numeros:\n",
    "    soma += n\n",
    "media = soma / len(numeros)\n",
    "print(round(media, 2))"
   ]
  },
  {
   "cell_type": "markdown",
   "id": "075a390a-427f-49c1-a2c6-ad31a8d08376",
   "metadata": {},
   "source": [
    "### Média aparada\n",
    "A média aparada remove os valores extremos que estejam afetando a média. É uma medida boa, contudo é preciso estar atento a perda de informação, aconselha-se criar uma cópia dos dados anteriores antes de rmeover os valores. Após a remoção dos outliers podemos calcular a média aritmética normalmente, claro que o tamanho da amostra será alterado e deve ser levado em consideração. Outra etapa importante para o cálculo da média aparada é a ordenação dos valores da lista, isso porque ela irá remover os valores das pontas, tantos os inferiores quanto os superiores."
   ]
  },
  {
   "cell_type": "markdown",
   "id": "cf46962d-e2e0-4994-97ab-e274d9d1af92",
   "metadata": {},
   "source": [
    "### Explicando o exemplo\n",
    "No exemplo abaixo é aparado dois valores extremos de forma manual, contudo a média aparada não lida com valores discretos e fixos, ela lida com percentual de remoção. No caso do nosso exemplo o percentual de remoção é de 6,66%, ou seja, 3,33% de cada ponta. No caso de não sabermos a quantidade exata de outliers devemos levar em consideração a análise realizada para aplicar o percentual correto de aparação, afinal perderemos informação, é preciso agir com cautela. "
   ]
  },
  {
   "cell_type": "code",
   "execution_count": 4,
   "id": "b1de829e-d7dc-475b-ae10-dce75688694b",
   "metadata": {},
   "outputs": [],
   "source": [
    "copia_numeros = numeros.copy()"
   ]
  },
  {
   "cell_type": "code",
   "execution_count": 5,
   "id": "4b39a938-2b18-46d4-bb8c-fc8b4f4e20d2",
   "metadata": {},
   "outputs": [
    {
     "name": "stdout",
     "output_type": "stream",
     "text": [
      "[-50, 9, 10, 11, 12, 12, 13, 13, 13, 14, 14, 14, 15, 15, 15, 16, 16, 16, 17, 17, 18, 18, 19, 20, 21, 22, 22, 23, 24, 200]\n"
     ]
    }
   ],
   "source": [
    "copia_numeros.sort()\n",
    "print(copia_numeros)"
   ]
  },
  {
   "cell_type": "markdown",
   "id": "d62adf3f-06ce-4a70-b125-3f02e332de7c",
   "metadata": {},
   "source": [
    "Podemos verificar que os valores extremos são -50 e 200. Esses valores estão alterando o resultado final da média, vamos removê-los."
   ]
  },
  {
   "cell_type": "code",
   "execution_count": 6,
   "id": "6dc86dd8-a892-4a53-9c93-1a09e88e7397",
   "metadata": {},
   "outputs": [
    {
     "name": "stdout",
     "output_type": "stream",
     "text": [
      "[9, 10, 11, 12, 12, 13, 13, 13, 14, 14, 14, 15, 15, 15, 16, 16, 16, 17, 17, 18, 18, 19, 20, 21, 22, 22, 23, 24]\n"
     ]
    }
   ],
   "source": [
    "copia_numeros.remove(-50)\n",
    "copia_numeros.remove(200)\n",
    "print(copia_numeros)"
   ]
  },
  {
   "cell_type": "markdown",
   "id": "8336c9bd-b65b-4b9d-98b5-3df00a18da7d",
   "metadata": {},
   "source": [
    "Vamos verificar se houve alteração no tamanho da lista, realizar essa verificação é importante."
   ]
  },
  {
   "cell_type": "code",
   "execution_count": 7,
   "id": "07fbd5a3-cb1b-445a-8696-966ab7a468d6",
   "metadata": {},
   "outputs": [
    {
     "name": "stdout",
     "output_type": "stream",
     "text": [
      "Tamanho da lista original: 30\n",
      "Tamanho da lista copiada: 28\n"
     ]
    }
   ],
   "source": [
    "print(f'Tamanho da lista original: {len(numeros)}') # tamanho da lista original\n",
    "print(f'Tamanho da lista copiada: {len(copia_numeros)}') # tamanho da lista copiada"
   ]
  },
  {
   "cell_type": "markdown",
   "id": "01966fc0-195b-49af-9449-e3c0a85b2854",
   "metadata": {},
   "source": [
    "Agora vamos calcular a média normalmente"
   ]
  },
  {
   "cell_type": "code",
   "execution_count": 8,
   "id": "cc493e37-38bb-4c9d-b1ef-97d3b98121c3",
   "metadata": {},
   "outputs": [],
   "source": [
    "soma = 0\n",
    "media = 0"
   ]
  },
  {
   "cell_type": "code",
   "execution_count": 9,
   "id": "db76d809-1220-4e43-8ef4-4c2eb79d1e7b",
   "metadata": {},
   "outputs": [
    {
     "name": "stdout",
     "output_type": "stream",
     "text": [
      "16.04\n"
     ]
    }
   ],
   "source": [
    "for numero in copia_numeros:\n",
    "    soma += numero\n",
    "media = soma / len(copia_numeros)\n",
    "print(round(media,2))"
   ]
  },
  {
   "cell_type": "markdown",
   "id": "3ee3bc69-47fd-4db4-b027-484c5a167187",
   "metadata": {},
   "source": [
    "### Aplicando percentual de 6,66% na aparação dos valores da lista numeros\n",
    "Ao final podemos verificar que o resultado foi o mesmo, mas como dito anteriormente, o valor de aparação foi dado de forma manual. Existe alguns percentuais padrões de acordo com a análise, que devem ser levados em consideração. Abaixo eu coloco uma pequena tabela com esses valores."
   ]
  },
  {
   "cell_type": "code",
   "execution_count": 10,
   "id": "bd900d87-9aa7-4fd7-8981-afed41517135",
   "metadata": {},
   "outputs": [],
   "source": [
    "n = 0\n",
    "k = 0"
   ]
  },
  {
   "cell_type": "code",
   "execution_count": 11,
   "id": "9b353330-cb71-4598-bf0d-7601de96fc24",
   "metadata": {},
   "outputs": [],
   "source": [
    "n = len(numeros)\n",
    "k = int(0.0666 * n)"
   ]
  },
  {
   "cell_type": "code",
   "execution_count": 12,
   "id": "3ebea020-7ad5-4e7e-ac63-a58e6ef404dc",
   "metadata": {},
   "outputs": [],
   "source": [
    "dados_ordenados = sorted(numeros)\n",
    "aparados = dados_ordenados[k: n - k]"
   ]
  },
  {
   "cell_type": "code",
   "execution_count": 13,
   "id": "7f70d7ae-453f-4e91-bea6-e09b29222813",
   "metadata": {},
   "outputs": [],
   "source": [
    "soma = 0\n",
    "media = 0"
   ]
  },
  {
   "cell_type": "code",
   "execution_count": 14,
   "id": "f30a12a2-1d45-4930-8bf4-8eeb43b2a0d3",
   "metadata": {},
   "outputs": [
    {
     "name": "stdout",
     "output_type": "stream",
     "text": [
      "16.04\n"
     ]
    }
   ],
   "source": [
    "for valor in aparados:\n",
    "    soma += valor\n",
    "media = soma / len(aparados)\n",
    "print(round(media, 2))"
   ]
  },
  {
   "cell_type": "markdown",
   "id": "69f05ab7-a611-44b3-a613-9e938a8610c7",
   "metadata": {},
   "source": [
    "### Tabela com alguns percentuais de uso padrão para aparação, de acordo com a aplicação\n",
    "Os valores foram fornecidos e explicados pelo ChatGPT"
   ]
  },
  {
   "cell_type": "markdown",
   "id": "2d99a330-4fbb-47b4-b527-836a7ceb3e40",
   "metadata": {},
   "source": [
    "| Aplicação | Percentual |\n",
    "|-----------|------------|\n",
    "| Estatísica Descritiva | 2,5% a 5% |\n",
    "| Dados assimétricos | 10% a 20% |\n",
    "| Estudos muito sensíveis a extremos | 20% a 25% |"
   ]
  },
  {
   "cell_type": "markdown",
   "id": "07229847-4b57-4c75-8562-57ce55bf7831",
   "metadata": {},
   "source": [
    "### Executando o mesmo exemplo acima utilizando R puro sem funções internas ou bibliotecas externas\n",
    "\n",
    "Para utilizar o R em um Kernel Python3:\n",
    "\n",
    "1. instalar o pacote rpy2\n",
    "2. iniciar o comando %load_ext rpy2.ipython\n",
    "3. sempre que criar um código R é preciso iniciar a célula com %%R"
   ]
  },
  {
   "cell_type": "code",
   "execution_count": 15,
   "id": "37ddad76-d45d-4794-be39-2bf12c718257",
   "metadata": {},
   "outputs": [
    {
     "name": "stdout",
     "output_type": "stream",
     "text": [
      "Requirement already satisfied: rpy2 in c:\\users\\saras\\appdata\\local\\programs\\python\\python313\\lib\\site-packages (3.6.4)\n",
      "Requirement already satisfied: rpy2-rinterface>=3.6.3 in c:\\users\\saras\\appdata\\local\\programs\\python\\python313\\lib\\site-packages (from rpy2) (3.6.3)\n",
      "Requirement already satisfied: rpy2-robjects>=3.6.3 in c:\\users\\saras\\appdata\\local\\programs\\python\\python313\\lib\\site-packages (from rpy2) (3.6.3)\n",
      "Requirement already satisfied: packaging in c:\\users\\saras\\appdata\\local\\programs\\python\\python313\\lib\\site-packages (from rpy2) (25.0)\n",
      "Requirement already satisfied: cffi>=1.15.1 in c:\\users\\saras\\appdata\\local\\programs\\python\\python313\\lib\\site-packages (from rpy2-rinterface>=3.6.3->rpy2) (2.0.0)\n",
      "Requirement already satisfied: pycparser in c:\\users\\saras\\appdata\\local\\programs\\python\\python313\\lib\\site-packages (from cffi>=1.15.1->rpy2-rinterface>=3.6.3->rpy2) (2.23)\n",
      "Requirement already satisfied: jinja2 in c:\\users\\saras\\appdata\\local\\programs\\python\\python313\\lib\\site-packages (from rpy2-robjects>=3.6.3->rpy2) (3.1.6)\n",
      "Requirement already satisfied: tzlocal in c:\\users\\saras\\appdata\\local\\programs\\python\\python313\\lib\\site-packages (from rpy2-robjects>=3.6.3->rpy2) (5.3.1)\n",
      "Requirement already satisfied: MarkupSafe>=2.0 in c:\\users\\saras\\appdata\\local\\programs\\python\\python313\\lib\\site-packages (from jinja2->rpy2-robjects>=3.6.3->rpy2) (3.0.3)\n",
      "Requirement already satisfied: tzdata in c:\\users\\saras\\appdata\\local\\programs\\python\\python313\\lib\\site-packages (from tzlocal->rpy2-robjects>=3.6.3->rpy2) (2025.2)\n"
     ]
    }
   ],
   "source": [
    "!pip install rpy2"
   ]
  },
  {
   "cell_type": "code",
   "execution_count": 16,
   "id": "74c4483a-e4cd-45f0-903a-07eb69b008ee",
   "metadata": {},
   "outputs": [],
   "source": [
    "import os\n",
    "os.environ[\"RPY2_CFFI_MODE\"] = \"ABI\"\n",
    "%load_ext rpy2.ipython"
   ]
  },
  {
   "cell_type": "code",
   "execution_count": 17,
   "id": "8b87bf2e-02c4-4ab7-a1dd-496a8c374776",
   "metadata": {},
   "outputs": [
    {
     "name": "stdout",
     "output_type": "stream",
     "text": [
      "[1] 19.96667\n"
     ]
    }
   ],
   "source": [
    "%%R\n",
    "dados <- c(12, 15, 14, 13, 16, 18, 20, 22, 19, 17, 14, 13, 15, 16, 200, 21, 23, 24, 22, 18, 17, 16, 15, 14, 13, 12, 11, 10, 9, -50)\n",
    "soma <- 0\n",
    "media <- 0\n",
    "for (dado in dados){\n",
    "    soma <- soma + dado\n",
    "}\n",
    "media <- soma/length(dados)\n",
    "print(media)"
   ]
  },
  {
   "cell_type": "code",
   "execution_count": 18,
   "id": "c99479ec-5949-4ef1-976f-b903dc39ffae",
   "metadata": {},
   "outputs": [],
   "source": [
    "%%R\n",
    "tamanho <- length(dados)\n",
    "aparacao <-as.integer( 0.0666 * tamanho)\n",
    "ordenados <- sort(dados)"
   ]
  },
  {
   "cell_type": "code",
   "execution_count": 19,
   "id": "569795d7-b212-43e1-a6e5-17706a207b2d",
   "metadata": {},
   "outputs": [
    {
     "name": "stdout",
     "output_type": "stream",
     "text": [
      "[1] 16.03571\n"
     ]
    }
   ],
   "source": [
    "%%R\n",
    "tamanho_aparacao <- as.integer(tamanho - aparacao)\n",
    "dados_aparados <- ordenados[(aparacao + 1):(tamanho_aparacao)]\n",
    "\n",
    "soma_ap <- 0\n",
    "media_ap <- 0\n",
    "\n",
    "for(d in dados_aparados){\n",
    "    soma_ap <- soma_ap + d\n",
    "}\n",
    "media_ap <- soma_ap/length(dados_aparados)\n",
    "print(media_ap)"
   ]
  },
  {
   "cell_type": "markdown",
   "id": "c819255b-bdf4-4016-bc2c-70215efbb781",
   "metadata": {},
   "source": [
    "### Análise dos resultados\n",
    "\n",
    "**Texto corrigido pelo ChatGPT:**\n",
    "\n",
    "Tanto em R quanto em Python, obtive o mesmo resultado para a média aritmética (19,97) e para a média aparada (16,03).\n",
    "\n",
    "A escolha de qual média utilizar na análise exploratória depende do contexto e das características dos dados. Existem casos em que valores extremos, ainda que fora do padrão, são relevantes e devem ser mantidos; em outros, sua presença pode distorcer significativamente as estimativas e comprometer a interpretação dos resultados.\n",
    "\n",
    "Por isso, recomendo calcular ambas as médias quando houver suspeita de outliers. Se optar por manter a média aritmética, é importante mencionar a existência dos valores extremos e mostrá-los visualmente, por exemplo, por meio de um boxplot.\n",
    "\n",
    "O que não é recomendável é apresentar a média como uma medida absoluta e representativa do conjunto de dados sem considerar outras estatísticas descritivas e a possível influência dos outliers.\n",
    "\n",
    "**Texto original:**\n",
    "\n",
    "Ambas linguagens R e Python deram o mesmo resultado para a média aritmética: 19.97 e média aparada: 16.03. Fica a pergunta: Qual média utilizar para continudade da análise exploratória? A resposta é: Depende da análise e dos dados, afinal há valores extremos que ainda sendo extremos é importante mantê-los, como há outros que sua permanência pode alterar significativamente os resultados posteriores. Aconselho realizar as duas médias se for o caso, e na escolha de manter a média aritmética faça referência aos outliers e os mostre visualmente pelo Boxplot. O que não recomendo é dar o média como valor absoluto e representativo dos dados, é preciso considerar outras medidas."
   ]
  },
  {
   "cell_type": "markdown",
   "id": "d7572e81-0239-4aa8-b064-21cd68f94ca6",
   "metadata": {},
   "source": [
    "## Média Ponderada\n",
    "\n",
    "A média ponderada é  uma medida estatística que considera a relevância dos valores no cálculo da média, essa relevância é dada pelo pesos atribuídos a cada valor. Diferente da média aritmética, é a soma dos pesos que divide o resultado da soma ponderada (a soma dos produtos entre valor e peso). Abaixo eu calculo a soma ponderada em Python e em R, novamente as duas linguagens obtiveram os mesmo resultado."
   ]
  },
  {
   "cell_type": "markdown",
   "id": "3c6b9258-f405-4ff5-aca8-e5f298da0dd6",
   "metadata": {},
   "source": [
    "### Abrindo arquivo csv em Python e transferindo os valores para duas listas"
   ]
  },
  {
   "cell_type": "code",
   "execution_count": 20,
   "id": "97d5b8d3-f24a-48ae-9340-db0102c38887",
   "metadata": {},
   "outputs": [],
   "source": [
    "valores = []\n",
    "pesos = []\n",
    "\n",
    "with open('peso_fixos.csv', 'r') as arquivo:\n",
    "    linhas = arquivo.readlines()\n",
    "\n",
    "    for linha in linhas[1:]:\n",
    "        valor, peso = linha.strip().split(\",\")\n",
    "        valores.append(float(valor))\n",
    "        pesos.append(float(peso))"
   ]
  },
  {
   "cell_type": "markdown",
   "id": "9a3cf91a-a8c9-4d6b-93ac-329454c28545",
   "metadata": {},
   "source": [
    "### Calculando a média ponderada em Python"
   ]
  },
  {
   "cell_type": "code",
   "execution_count": 21,
   "id": "398f81aa-99b9-4c04-bdb4-3a7630b05d65",
   "metadata": {},
   "outputs": [
    {
     "name": "stdout",
     "output_type": "stream",
     "text": [
      "16.33\n"
     ]
    }
   ],
   "source": [
    "soma_ponderada = 0\n",
    "soma_pesos = 0\n",
    "media_ponderada = 0\n",
    "\n",
    "for v in valores:\n",
    "    for p in pesos:\n",
    "        soma_ponderada += v * p\n",
    "        soma_pesos += p\n",
    "media_ponderada = soma_ponderada/soma_pesos\n",
    "print(round(media_ponderada,2))"
   ]
  },
  {
   "cell_type": "markdown",
   "id": "ea90c40a-a897-4203-8ead-601dca298e00",
   "metadata": {},
   "source": [
    "### Abrindo arquivo csv em R e transferindo para duas listas"
   ]
  },
  {
   "cell_type": "code",
   "execution_count": 22,
   "id": "ebc84a5f-50cb-4fc7-8014-6f35fc80384c",
   "metadata": {},
   "outputs": [],
   "source": [
    "%%R\n",
    "valores_pesos <- read.csv('peso_fixos.csv',header = TRUE, sep=\",\")\n",
    "\n",
    "valores_r <- valores_pesos$valor\n",
    "pesos_r <- valores_pesos$peso"
   ]
  },
  {
   "cell_type": "markdown",
   "id": "c47cbd51-f4e3-4e66-bf69-8be108f054a4",
   "metadata": {},
   "source": [
    "### Calculando média ponderada em R"
   ]
  },
  {
   "cell_type": "code",
   "execution_count": 23,
   "id": "86c63b07-d15b-4052-95c5-2ab20dff3d15",
   "metadata": {},
   "outputs": [
    {
     "name": "stdout",
     "output_type": "stream",
     "text": [
      "[1] 16.33333\n"
     ]
    }
   ],
   "source": [
    "%%R\n",
    "soma_pd <- 0\n",
    "soma_ps <- 0\n",
    "media_pd <- 0\n",
    "\n",
    "for (vl in valores_r){\n",
    "    for (ps in pesos_r){\n",
    "        soma_pd <- soma_pd + (vl *ps)\n",
    "        soma_ps <- soma_ps + ps\n",
    "    }\n",
    "}\n",
    "\n",
    "media_pd <- soma_pd/soma_ps\n",
    "print(media_pd)"
   ]
  },
  {
   "cell_type": "markdown",
   "id": "358bffdb-d6eb-418b-94da-15df54f6a3ca",
   "metadata": {},
   "source": [
    "## Mediana\n",
    "\n",
    "A mediana é uma das medidas das estimativas de localização, sendo muito utilizada em comparação com a média por ser robusta a outliers. Mesmo que eu tenha valores extremos o resultado da mediana não é atingido porque se trata do valor central que divide o conjunto de dados entre maiores que a mediana e menores que a mediana. O cálculo da mediana lida bem com conjunto de dados ímpares, sendo a mediana o valor central, mas também com conjuntos pares, sendo a mediana a média entre os dois valores centrais. Abaixo eu calculo a mediana em Python e em R, o mais interessante de ter feito a mediana em R é a descoberta de que a indexação em R começa em 1 e isso alterou um pouco a forma de acessar os valores centrais."
   ]
  },
  {
   "cell_type": "markdown",
   "id": "20dc510a-afd7-4fe6-af1a-7b5f52101cb3",
   "metadata": {},
   "source": [
    "### Calculando mediana em Python"
   ]
  },
  {
   "cell_type": "code",
   "execution_count": 26,
   "id": "b3766c3b-c2c9-4eff-8c19-dd557327db58",
   "metadata": {},
   "outputs": [],
   "source": [
    "numeros_ordenados = sorted(numeros)"
   ]
  },
  {
   "cell_type": "code",
   "execution_count": 72,
   "id": "29eab2c8-1f0c-4b0d-8007-f7e4bf08dbb7",
   "metadata": {},
   "outputs": [
    {
     "name": "stdout",
     "output_type": "stream",
     "text": [
      "15.5\n"
     ]
    }
   ],
   "source": [
    "def mediana(numeros):\n",
    "    t = len(numeros)\n",
    "    meio = t // 2\n",
    "    mediana = 0\n",
    "    if t % 2 == 0:\n",
    "        mediana = (numeros[meio - 1] + numeros[meio])/2\n",
    "    else:\n",
    "        mediana = numeros[meio]\n",
    "    return mediana\n",
    "print(mediana(numeros_ordenados))"
   ]
  },
  {
   "cell_type": "markdown",
   "id": "8f76775b-f530-438c-8d26-183904986bb0",
   "metadata": {},
   "source": [
    "### Calculando mediana em R"
   ]
  },
  {
   "cell_type": "code",
   "execution_count": 77,
   "id": "4ba1bd74-3ebb-47dd-80dd-8a826a2535a0",
   "metadata": {},
   "outputs": [
    {
     "name": "stdout",
     "output_type": "stream",
     "text": [
      "[1] 15.5\n"
     ]
    }
   ],
   "source": [
    "%%R -i numeros_ordenados\n",
    "mediana <- function(numeros){\n",
    "    numeros <- as.numeric(numeros_ordenados)\n",
    "    t <- length(numeros)\n",
    "    meio <- t / 2\n",
    "    med <- 0\n",
    "    if(t %% 2 == 0){\n",
    "        med <- (numeros[meio] + numeros[meio + 1])/2\n",
    "    }else{\n",
    "        meio <- ceiling(meio)\n",
    "        med <- numeros[meio]\n",
    "    }\n",
    "    return(med)\n",
    "}\n",
    "mediana(numeros_ordenados)"
   ]
  },
  {
   "cell_type": "markdown",
   "id": "62c90ab9-8a9b-44b3-951b-fcd9c7cb3b4b",
   "metadata": {},
   "source": [
    "## Mediana Ponderada\n",
    "\n",
    "Usarei um trecho do livro em que o autor explica mediana ponderada e posteriormente explico como analisar o seu resultado, vamos ao trecho:\n",
    "\n",
    "\"_Em vez de um número central, a mediana ponderada é um valor cuja a soma dos pesos é igual para as metades superior e inferior da lista classificada_\""
   ]
  },
  {
   "cell_type": "markdown",
   "id": "b8fac9eb-8db5-48c7-b5be-27777848f254",
   "metadata": {},
   "source": [
    "### Calculando mediana ponderada em Python"
   ]
  },
  {
   "cell_type": "code",
   "execution_count": 129,
   "id": "9d9c785b-e752-48e6-becc-2b40eaf31fa9",
   "metadata": {},
   "outputs": [],
   "source": [
    "dic_valores = {10: 1, 12: 2, 15: 3, 18: 2, 20: 2}"
   ]
  },
  {
   "cell_type": "code",
   "execution_count": 132,
   "id": "ca83cc60-4fb0-4638-b25f-dc403cdf7aaf",
   "metadata": {},
   "outputs": [
    {
     "name": "stdout",
     "output_type": "stream",
     "text": [
      "Peso acumulado: 10\n",
      "Peso acumulado divido por dois: 5\n"
     ]
    }
   ],
   "source": [
    "sum_v = 0\n",
    "w = 0\n",
    "for v in dic_valores.values():\n",
    "    sum_v += v\n",
    "    w = sum_v // 2\n",
    "print(f'Peso acumulado: {sum_v}')\n",
    "print(f'Peso acumulado divido por dois: {w}')"
   ]
  },
  {
   "cell_type": "code",
   "execution_count": 133,
   "id": "04a95451-d053-479b-8411-5b5cdaffee6b",
   "metadata": {},
   "outputs": [
    {
     "name": "stdout",
     "output_type": "stream",
     "text": [
      "Mediana ponderada: 15\n"
     ]
    }
   ],
   "source": [
    "acumula_pesos = 0\n",
    "mediana_ponderada = 0\n",
    "for val, ps in dic_valores.items():\n",
    "    acumula_pesos += ps\n",
    "    if acumula_pesos >= w:\n",
    "        mediana_ponderada = val\n",
    "        break\n",
    "print(f'Mediana ponderada: {mediana_ponderada}')"
   ]
  },
  {
   "cell_type": "markdown",
   "id": "5274aa46-007c-403d-9f09-3d653a67f2c8",
   "metadata": {},
   "source": [
    "### Compreendendo o resultado\n",
    "\n",
    "A mediana ponderada é 15 porque se olharmos o nosso conjunto de dados veremos que o peso acumulado é 10 e sua divião por 2 é 5, precisamos então encontrar nos dados o exato momento em que o valor 5 é atingido, se formos ver, até o 12 esse valor não é atingido porque a soma dos pesos da 4, logo quando chegamos ao 15 temos o resultado 5 atingido, sendo a soma dos pesos igual a 6, por isso o resultado é 15.\n",
    "\n",
    "Em caso de haver dois valores que atinjam a divisão do peso acumulado, podemos considerar o valor que o atinge primeiro, nesse caso supondo que 12 e 15 alcançasse 5, o resultado seria 12, porque é o primeiro valor que atinge a divisão do peso acumulado."
   ]
  },
  {
   "cell_type": "markdown",
   "id": "8165bf87-37d4-4a46-8cbb-0f575b06c47a",
   "metadata": {},
   "source": [
    "### Calculando mediana ponderada em R"
   ]
  },
  {
   "cell_type": "markdown",
   "id": "cbd66c5f-8a39-4e3a-9626-3e43657e2f68",
   "metadata": {},
   "source": [
    "## Análise da base de dados State sobre taxa de homícidio dada a população e o estado"
   ]
  },
  {
   "cell_type": "code",
   "execution_count": null,
   "id": "29d7794d-3182-4946-a49d-932413f3cd1e",
   "metadata": {},
   "outputs": [],
   "source": []
  }
 ],
 "metadata": {
  "kernelspec": {
   "display_name": "Python 3 (ipykernel)",
   "language": "python",
   "name": "python3"
  },
  "language_info": {
   "codemirror_mode": {
    "name": "ipython",
    "version": 3
   },
   "file_extension": ".py",
   "mimetype": "text/x-python",
   "name": "python",
   "nbconvert_exporter": "python",
   "pygments_lexer": "ipython3",
   "version": "3.13.7"
  }
 },
 "nbformat": 4,
 "nbformat_minor": 5
}
