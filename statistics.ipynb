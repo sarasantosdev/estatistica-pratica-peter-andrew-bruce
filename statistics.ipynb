{
 "cells": [
  {
   "cell_type": "markdown",
   "id": "c04c7903-0f46-4ff7-a5eb-2c9b50e0fc11",
   "metadata": {},
   "source": [
    "# Estatistica Prática para Cientista de Dados: 50 conceitos essenciais"
   ]
  },
  {
   "cell_type": "markdown",
   "id": "db9b82b9-1f19-4c09-8436-787f3aebd64d",
   "metadata": {},
   "source": [
    "## Capítulo 1: Análise Exploratória de Dados"
   ]
  },
  {
   "cell_type": "markdown",
   "id": "8b5a9810-73ca-41ec-bb56-5ff20b66373e",
   "metadata": {},
   "source": [
    "### Estimativas de Localização (tendência central)\n",
    "É comum as variáveis apresentarem valores distintos, para que possamos ter um valor central onde os dados se concentram utilizamos as estimativas de localização, as mais utilizadas são: média aritmética, média aparada, média ponderada, mediana e mediana ponderada. Abaixo realizo o cálculo da média aritmética e a média aparada para que possamos compreender o impacto dos valores extremos."
   ]
  },
  {
   "cell_type": "markdown",
   "id": "8c536b2d-3289-4aa3-af99-bdaabc43cb0f",
   "metadata": {},
   "source": [
    "### Média aritmética\n",
    "É a média mais simples. Calcula-se a soma dos valores e divide pelo total de valores. Apesar de ser simples, é uma medida sensível a outliers inferiores e superiores, o que pode distorcer o resultado final, por isso foram desenvolvidas outras medidas como alternativa a média para que possamos ser o mais próximo do valor central possível.\n",
    "\n",
    "Outliers altos podem elevar o resultado da média, enquanto que outliers baixos podem decair o resultado da média, é preciso portanto haver uma espécie de \"equilíbrio\" entre os valores. Abaixo calculo a média aritmética de uma lista com dois outliers."
   ]
  },
  {
   "cell_type": "code",
   "execution_count": 1,
   "id": "d063c27f-93b9-4b35-839c-f3454b7a4863",
   "metadata": {},
   "outputs": [],
   "source": [
    "numeros = [12, 15, 14, 13, 16, 18, 20, 22, 19, 17, 14, 13, 15, 16, 200, 21, 23, 24, 22, 18, 17, 16, 15, 14, 13, 12, 11, 10, 9, -50]"
   ]
  },
  {
   "cell_type": "code",
   "execution_count": 2,
   "id": "2c80e78f-89b3-4d4f-9827-e3636ec6cd8d",
   "metadata": {},
   "outputs": [],
   "source": [
    "soma  = 0\n",
    "media = 0"
   ]
  },
  {
   "cell_type": "code",
   "execution_count": 3,
   "id": "2df4668d-3c7f-403e-b635-f94243cb1503",
   "metadata": {},
   "outputs": [
    {
     "name": "stdout",
     "output_type": "stream",
     "text": [
      "19.97\n"
     ]
    }
   ],
   "source": [
    "for n in numeros:\n",
    "    soma += n\n",
    "media = soma / len(numeros)\n",
    "print(round(media, 2))"
   ]
  },
  {
   "cell_type": "markdown",
   "id": "075a390a-427f-49c1-a2c6-ad31a8d08376",
   "metadata": {},
   "source": [
    "### Média aparada\n",
    "A média aparada remove os valores extremos que estejam afetando a média. É uma medida boa, contudo é preciso estar atento a perda de informação, aconselha-se criar uma cópia dos dados anteriores antes de rmeover os valores. Após a remoção dos outliers podemos calcular a média aritmética normalmente, claro que o tamanho da amostra será alterado e deve ser levado em consideração. Outra etapa importante para o cálculo da média aparada é a ordenação dos valores da lista, isso porque ela irá remover os valores das pontas, tantos os inferiores quanto os superiores."
   ]
  },
  {
   "cell_type": "markdown",
   "id": "cf46962d-e2e0-4994-97ab-e274d9d1af92",
   "metadata": {},
   "source": [
    "### Explicando o exemplo\n",
    "No exemplo abaixo é aparado dois valores extremos de forma manual, contudo a média aparada não lida com valores discretos e fixos, ela lida com percentual de remoção. No caso do nosso exemplo o percentual de remoção é de 6,66%, ou seja, 3,33% de cada ponta. No caso de não sabermos a quantidade exata de outliers devemos levar em consideração a análise realizada para aplicar o percentual correto de aparação, afinal perderemos informação, é preciso agir com cautela. "
   ]
  },
  {
   "cell_type": "code",
   "execution_count": 4,
   "id": "b1de829e-d7dc-475b-ae10-dce75688694b",
   "metadata": {},
   "outputs": [],
   "source": [
    "copia_numeros = numeros.copy()"
   ]
  },
  {
   "cell_type": "code",
   "execution_count": 5,
   "id": "4b39a938-2b18-46d4-bb8c-fc8b4f4e20d2",
   "metadata": {},
   "outputs": [
    {
     "name": "stdout",
     "output_type": "stream",
     "text": [
      "[-50, 9, 10, 11, 12, 12, 13, 13, 13, 14, 14, 14, 15, 15, 15, 16, 16, 16, 17, 17, 18, 18, 19, 20, 21, 22, 22, 23, 24, 200]\n"
     ]
    }
   ],
   "source": [
    "copia_numeros.sort()\n",
    "print(copia_numeros)"
   ]
  },
  {
   "cell_type": "markdown",
   "id": "d62adf3f-06ce-4a70-b125-3f02e332de7c",
   "metadata": {},
   "source": [
    "Podemos verificar que os valores extremos são -50 e 200. Esses valores estão alterando o resultado final da média, vamos removê-los."
   ]
  },
  {
   "cell_type": "code",
   "execution_count": 6,
   "id": "6dc86dd8-a892-4a53-9c93-1a09e88e7397",
   "metadata": {},
   "outputs": [
    {
     "name": "stdout",
     "output_type": "stream",
     "text": [
      "[9, 10, 11, 12, 12, 13, 13, 13, 14, 14, 14, 15, 15, 15, 16, 16, 16, 17, 17, 18, 18, 19, 20, 21, 22, 22, 23, 24]\n"
     ]
    }
   ],
   "source": [
    "copia_numeros.remove(-50)\n",
    "copia_numeros.remove(200)\n",
    "print(copia_numeros)"
   ]
  },
  {
   "cell_type": "markdown",
   "id": "8336c9bd-b65b-4b9d-98b5-3df00a18da7d",
   "metadata": {},
   "source": [
    "Vamos verificar se houve alteração no tamanho da lista, realizar essa verificação é importante."
   ]
  },
  {
   "cell_type": "code",
   "execution_count": 7,
   "id": "07fbd5a3-cb1b-445a-8696-966ab7a468d6",
   "metadata": {},
   "outputs": [
    {
     "name": "stdout",
     "output_type": "stream",
     "text": [
      "Tamanho da lista original: 30\n",
      "Tamanho da lista copiada: 28\n"
     ]
    }
   ],
   "source": [
    "print(f'Tamanho da lista original: {len(numeros)}') # tamanho da lista original\n",
    "print(f'Tamanho da lista copiada: {len(copia_numeros)}') # tamanho da lista copiada"
   ]
  },
  {
   "cell_type": "markdown",
   "id": "01966fc0-195b-49af-9449-e3c0a85b2854",
   "metadata": {},
   "source": [
    "Agora vamos calcular a média normalmente"
   ]
  },
  {
   "cell_type": "code",
   "execution_count": 8,
   "id": "cc493e37-38bb-4c9d-b1ef-97d3b98121c3",
   "metadata": {},
   "outputs": [],
   "source": [
    "soma = 0\n",
    "media = 0"
   ]
  },
  {
   "cell_type": "code",
   "execution_count": 9,
   "id": "db76d809-1220-4e43-8ef4-4c2eb79d1e7b",
   "metadata": {},
   "outputs": [
    {
     "name": "stdout",
     "output_type": "stream",
     "text": [
      "16.04\n"
     ]
    }
   ],
   "source": [
    "for numero in copia_numeros:\n",
    "    soma += numero\n",
    "media = soma / len(copia_numeros)\n",
    "print(round(media,2))"
   ]
  },
  {
   "cell_type": "markdown",
   "id": "3ee3bc69-47fd-4db4-b027-484c5a167187",
   "metadata": {},
   "source": [
    "### Aplicando percentual de 6,66% na aparação dos valores da lista numeros\n",
    "Ao final podemos verificar que o resultado foi o mesmo, mas como dito anteriormente, o valor de aparação foi dado de forma manual. Existe alguns percentuais padrões de acordo com a análise, que devem ser levados em consideração. Abaixo eu coloco uma pequena tabela com esses valores."
   ]
  },
  {
   "cell_type": "code",
   "execution_count": 10,
   "id": "bd900d87-9aa7-4fd7-8981-afed41517135",
   "metadata": {},
   "outputs": [],
   "source": [
    "n = 0\n",
    "k = 0"
   ]
  },
  {
   "cell_type": "code",
   "execution_count": 11,
   "id": "9b353330-cb71-4598-bf0d-7601de96fc24",
   "metadata": {},
   "outputs": [],
   "source": [
    "n = len(numeros)\n",
    "k = int(0.0666 * n)"
   ]
  },
  {
   "cell_type": "code",
   "execution_count": 12,
   "id": "3ebea020-7ad5-4e7e-ac63-a58e6ef404dc",
   "metadata": {},
   "outputs": [],
   "source": [
    "dados_ordenados = sorted(numeros)\n",
    "aparados = dados_ordenados[k: n - k]"
   ]
  },
  {
   "cell_type": "code",
   "execution_count": 13,
   "id": "7f70d7ae-453f-4e91-bea6-e09b29222813",
   "metadata": {},
   "outputs": [],
   "source": [
    "soma = 0\n",
    "media = 0"
   ]
  },
  {
   "cell_type": "code",
   "execution_count": 14,
   "id": "f30a12a2-1d45-4930-8bf4-8eeb43b2a0d3",
   "metadata": {},
   "outputs": [
    {
     "name": "stdout",
     "output_type": "stream",
     "text": [
      "16.04\n"
     ]
    }
   ],
   "source": [
    "for valor in aparados:\n",
    "    soma += valor\n",
    "media = soma / len(aparados)\n",
    "print(round(media, 2))"
   ]
  },
  {
   "cell_type": "markdown",
   "id": "69f05ab7-a611-44b3-a613-9e938a8610c7",
   "metadata": {},
   "source": [
    "### Tabela com alguns percentuais de uso padrão para aparação, de acordo com a aplicação\n",
    "Os valores foram fornecidos e explicados pelo ChatGPT"
   ]
  },
  {
   "cell_type": "markdown",
   "id": "2d99a330-4fbb-47b4-b527-836a7ceb3e40",
   "metadata": {},
   "source": [
    "| Aplicação | Percentual |\n",
    "|-----------|------------|\n",
    "| Estatísica Descritiva | 2,5% a 5% |\n",
    "| Dados assimétricos | 10% a 20% |\n",
    "| Estudos muito sensíveis a extremos | 20% a 25% |"
   ]
  },
  {
   "cell_type": "markdown",
   "id": "07229847-4b57-4c75-8562-57ce55bf7831",
   "metadata": {},
   "source": [
    "### Executando o mesmo exemplo acima utilizando R puro sem funções internas ou bibliotecas externas\n",
    "\n",
    "Para utilizar o R em um Kernel Python3:\n",
    "\n",
    "1. instalar o pacote rpy2\n",
    "2. iniciar o comando %load_ext rpy2.ipython\n",
    "3. sempre que criar um código R é preciso iniciar a célula com %%R"
   ]
  },
  {
   "cell_type": "code",
   "execution_count": 15,
   "id": "37ddad76-d45d-4794-be39-2bf12c718257",
   "metadata": {},
   "outputs": [
    {
     "name": "stdout",
     "output_type": "stream",
     "text": [
      "Requirement already satisfied: rpy2 in c:\\users\\saras\\appdata\\local\\programs\\python\\python313\\lib\\site-packages (3.6.4)\n",
      "Requirement already satisfied: rpy2-rinterface>=3.6.3 in c:\\users\\saras\\appdata\\local\\programs\\python\\python313\\lib\\site-packages (from rpy2) (3.6.3)\n",
      "Requirement already satisfied: rpy2-robjects>=3.6.3 in c:\\users\\saras\\appdata\\local\\programs\\python\\python313\\lib\\site-packages (from rpy2) (3.6.3)\n",
      "Requirement already satisfied: packaging in c:\\users\\saras\\appdata\\local\\programs\\python\\python313\\lib\\site-packages (from rpy2) (25.0)\n",
      "Requirement already satisfied: cffi>=1.15.1 in c:\\users\\saras\\appdata\\local\\programs\\python\\python313\\lib\\site-packages (from rpy2-rinterface>=3.6.3->rpy2) (2.0.0)\n",
      "Requirement already satisfied: pycparser in c:\\users\\saras\\appdata\\local\\programs\\python\\python313\\lib\\site-packages (from cffi>=1.15.1->rpy2-rinterface>=3.6.3->rpy2) (2.23)\n",
      "Requirement already satisfied: jinja2 in c:\\users\\saras\\appdata\\local\\programs\\python\\python313\\lib\\site-packages (from rpy2-robjects>=3.6.3->rpy2) (3.1.6)\n",
      "Requirement already satisfied: tzlocal in c:\\users\\saras\\appdata\\local\\programs\\python\\python313\\lib\\site-packages (from rpy2-robjects>=3.6.3->rpy2) (5.3.1)\n",
      "Requirement already satisfied: MarkupSafe>=2.0 in c:\\users\\saras\\appdata\\local\\programs\\python\\python313\\lib\\site-packages (from jinja2->rpy2-robjects>=3.6.3->rpy2) (3.0.3)\n",
      "Requirement already satisfied: tzdata in c:\\users\\saras\\appdata\\local\\programs\\python\\python313\\lib\\site-packages (from tzlocal->rpy2-robjects>=3.6.3->rpy2) (2025.2)\n"
     ]
    }
   ],
   "source": [
    "!pip install rpy2"
   ]
  },
  {
   "cell_type": "code",
   "execution_count": 16,
   "id": "74c4483a-e4cd-45f0-903a-07eb69b008ee",
   "metadata": {},
   "outputs": [],
   "source": [
    "import os\n",
    "os.environ[\"RPY2_CFFI_MODE\"] = \"ABI\"\n",
    "%load_ext rpy2.ipython"
   ]
  },
  {
   "cell_type": "code",
   "execution_count": 17,
   "id": "8b87bf2e-02c4-4ab7-a1dd-496a8c374776",
   "metadata": {},
   "outputs": [
    {
     "name": "stdout",
     "output_type": "stream",
     "text": [
      "[1] 19.96667\n"
     ]
    }
   ],
   "source": [
    "%%R\n",
    "dados <- c(12, 15, 14, 13, 16, 18, 20, 22, 19, 17, 14, 13, 15, 16, 200, 21, 23, 24, 22, 18, 17, 16, 15, 14, 13, 12, 11, 10, 9, -50)\n",
    "soma <- 0\n",
    "media <- 0\n",
    "for (dado in dados){\n",
    "    soma <- soma + dado\n",
    "}\n",
    "media <- soma/length(dados)\n",
    "print(media)"
   ]
  },
  {
   "cell_type": "code",
   "execution_count": 18,
   "id": "c99479ec-5949-4ef1-976f-b903dc39ffae",
   "metadata": {},
   "outputs": [],
   "source": [
    "%%R\n",
    "tamanho <- length(dados)\n",
    "aparacao <-as.integer( 0.0666 * tamanho)\n",
    "ordenados <- sort(dados)"
   ]
  },
  {
   "cell_type": "code",
   "execution_count": 19,
   "id": "569795d7-b212-43e1-a6e5-17706a207b2d",
   "metadata": {},
   "outputs": [
    {
     "name": "stdout",
     "output_type": "stream",
     "text": [
      "[1] 16.03571\n"
     ]
    }
   ],
   "source": [
    "%%R\n",
    "tamanho_aparacao <- as.integer(tamanho - aparacao)\n",
    "dados_aparados <- ordenados[(aparacao + 1):(tamanho_aparacao)]\n",
    "\n",
    "soma_ap <- 0\n",
    "media_ap <- 0\n",
    "\n",
    "for(d in dados_aparados){\n",
    "    soma_ap <- soma_ap + d\n",
    "}\n",
    "media_ap <- soma_ap/length(dados_aparados)\n",
    "print(media_ap)"
   ]
  },
  {
   "cell_type": "markdown",
   "id": "c819255b-bdf4-4016-bc2c-70215efbb781",
   "metadata": {},
   "source": [
    "### Análise dos resultados\n",
    "\n",
    "**Texto corrigido pelo ChatGPT:**\n",
    "\n",
    "Tanto em R quanto em Python, obtive o mesmo resultado para a média aritmética (19,97) e para a média aparada (16,03).\n",
    "\n",
    "A escolha de qual média utilizar na análise exploratória depende do contexto e das características dos dados. Existem casos em que valores extremos, ainda que fora do padrão, são relevantes e devem ser mantidos; em outros, sua presença pode distorcer significativamente as estimativas e comprometer a interpretação dos resultados.\n",
    "\n",
    "Por isso, recomendo calcular ambas as médias quando houver suspeita de outliers. Se optar por manter a média aritmética, é importante mencionar a existência dos valores extremos e mostrá-los visualmente, por exemplo, por meio de um boxplot.\n",
    "\n",
    "O que não é recomendável é apresentar a média como uma medida absoluta e representativa do conjunto de dados sem considerar outras estatísticas descritivas e a possível influência dos outliers.\n",
    "\n",
    "**Texto original:**\n",
    "\n",
    "Ambas linguagens R e Python deram o mesmo resultado para a média aritmética: 19.97 e média aparada: 16.03. Fica a pergunta: Qual média utilizar para continudade da análise exploratória? A resposta é: Depende da análise e dos dados, afinal há valores extremos que ainda sendo extremos é importante mantê-los, como há outros que sua permanência pode alterar significativamente os resultados posteriores. Aconselho realizar as duas médias se for o caso, e na escolha de manter a média aritmética faça referência aos outliers e os mostre visualmente pelo Boxplot. O que não recomendo é dar o média como valor absoluto e representativo dos dados, é preciso considerar outras medidas."
   ]
  },
  {
   "cell_type": "markdown",
   "id": "d7572e81-0239-4aa8-b064-21cd68f94ca6",
   "metadata": {},
   "source": [
    "## Média Ponderada\n",
    "\n",
    "A média ponderada é  uma medida estatística que considera a relevância dos valores no cálculo da média, essa relevância é dada pelo pesos atribuídos a cada valor. Diferente da média aritmética, é a soma dos pesos que divide o resultado da soma ponderada (a soma dos produtos entre valor e peso). Abaixo eu calculo a soma ponderada em Python e em R, novamente as duas linguagens obtiveram os mesmo resultado."
   ]
  },
  {
   "cell_type": "markdown",
   "id": "3c6b9258-f405-4ff5-aca8-e5f298da0dd6",
   "metadata": {},
   "source": [
    "### Abrindo arquivo csv em Python e transferindo os valores para duas listas"
   ]
  },
  {
   "cell_type": "code",
   "execution_count": 20,
   "id": "97d5b8d3-f24a-48ae-9340-db0102c38887",
   "metadata": {},
   "outputs": [],
   "source": [
    "valores = []\n",
    "pesos = []\n",
    "\n",
    "with open('peso_fixos.csv', 'r') as arquivo:\n",
    "    linhas = arquivo.readlines()\n",
    "\n",
    "    for linha in linhas[1:]:\n",
    "        valor, peso = linha.strip().split(\",\")\n",
    "        valores.append(float(valor))\n",
    "        pesos.append(float(peso))"
   ]
  },
  {
   "cell_type": "markdown",
   "id": "9a3cf91a-a8c9-4d6b-93ac-329454c28545",
   "metadata": {},
   "source": [
    "### Calculando a média ponderada em Python"
   ]
  },
  {
   "cell_type": "code",
   "execution_count": 21,
   "id": "398f81aa-99b9-4c04-bdb4-3a7630b05d65",
   "metadata": {},
   "outputs": [
    {
     "name": "stdout",
     "output_type": "stream",
     "text": [
      "16.33\n"
     ]
    }
   ],
   "source": [
    "soma_ponderada = 0\n",
    "soma_pesos = 0\n",
    "media_ponderada = 0\n",
    "\n",
    "for v in valores:\n",
    "    for p in pesos:\n",
    "        soma_ponderada += v * p\n",
    "        soma_pesos += p\n",
    "media_ponderada = soma_ponderada/soma_pesos\n",
    "print(round(media_ponderada,2))"
   ]
  },
  {
   "cell_type": "markdown",
   "id": "ea90c40a-a897-4203-8ead-601dca298e00",
   "metadata": {},
   "source": [
    "### Abrindo arquivo csv em R e transferindo para duas listas"
   ]
  },
  {
   "cell_type": "code",
   "execution_count": 22,
   "id": "ebc84a5f-50cb-4fc7-8014-6f35fc80384c",
   "metadata": {},
   "outputs": [],
   "source": [
    "%%R\n",
    "valores_pesos <- read.csv('peso_fixos.csv',header = TRUE, sep=\",\")\n",
    "\n",
    "valores_r <- valores_pesos$valor\n",
    "pesos_r <- valores_pesos$peso"
   ]
  },
  {
   "cell_type": "markdown",
   "id": "c47cbd51-f4e3-4e66-bf69-8be108f054a4",
   "metadata": {},
   "source": [
    "### Calculando média ponderada em R"
   ]
  },
  {
   "cell_type": "code",
   "execution_count": 23,
   "id": "86c63b07-d15b-4052-95c5-2ab20dff3d15",
   "metadata": {},
   "outputs": [
    {
     "name": "stdout",
     "output_type": "stream",
     "text": [
      "[1] 16.33333\n"
     ]
    }
   ],
   "source": [
    "%%R\n",
    "soma_pd <- 0\n",
    "soma_ps <- 0\n",
    "media_pd <- 0\n",
    "\n",
    "for (vl in valores_r){\n",
    "    for (ps in pesos_r){\n",
    "        soma_pd <- soma_pd + (vl *ps)\n",
    "        soma_ps <- soma_ps + ps\n",
    "    }\n",
    "}\n",
    "\n",
    "media_pd <- soma_pd/soma_ps\n",
    "print(media_pd)"
   ]
  },
  {
   "cell_type": "markdown",
   "id": "358bffdb-d6eb-418b-94da-15df54f6a3ca",
   "metadata": {},
   "source": [
    "## Mediana\n",
    "\n",
    "A mediana é uma das medidas das estimativas de localização, sendo muito utilizada em comparação com a média por ser robusta a outliers. Mesmo que eu tenha valores extremos o resultado da mediana não é atingido porque se trata do valor central que divide o conjunto de dados entre maiores que a mediana e menores que a mediana. O cálculo da mediana lida bem com conjunto de dados ímpares, sendo a mediana o valor central, mas também com conjuntos pares, sendo a mediana a média entre os dois valores centrais. Abaixo eu calculo a mediana em Python e em R, o mais interessante de ter feito a mediana em R é a descoberta de que a indexação em R começa em 1 e isso alterou um pouco a forma de acessar os valores centrais."
   ]
  },
  {
   "cell_type": "markdown",
   "id": "20dc510a-afd7-4fe6-af1a-7b5f52101cb3",
   "metadata": {},
   "source": [
    "### Calculando mediana em Python"
   ]
  },
  {
   "cell_type": "code",
   "execution_count": 24,
   "id": "b3766c3b-c2c9-4eff-8c19-dd557327db58",
   "metadata": {},
   "outputs": [],
   "source": [
    "numeros_ordenados = sorted(numeros)"
   ]
  },
  {
   "cell_type": "code",
   "execution_count": 25,
   "id": "29eab2c8-1f0c-4b0d-8007-f7e4bf08dbb7",
   "metadata": {},
   "outputs": [
    {
     "name": "stdout",
     "output_type": "stream",
     "text": [
      "15.5\n"
     ]
    }
   ],
   "source": [
    "def mediana(numeros):\n",
    "    t = len(numeros)\n",
    "    meio = t // 2\n",
    "    mediana = 0\n",
    "    if t % 2 == 0:\n",
    "        mediana = (numeros[meio - 1] + numeros[meio])/2\n",
    "    else:\n",
    "        mediana = numeros[meio]\n",
    "    return mediana\n",
    "print(mediana(numeros_ordenados))"
   ]
  },
  {
   "cell_type": "markdown",
   "id": "8f76775b-f530-438c-8d26-183904986bb0",
   "metadata": {},
   "source": [
    "### Calculando mediana em R"
   ]
  },
  {
   "cell_type": "code",
   "execution_count": 26,
   "id": "4ba1bd74-3ebb-47dd-80dd-8a826a2535a0",
   "metadata": {},
   "outputs": [
    {
     "name": "stdout",
     "output_type": "stream",
     "text": [
      "[1] 15.5\n"
     ]
    }
   ],
   "source": [
    "%%R -i numeros_ordenados\n",
    "mediana <- function(numeros){\n",
    "    numeros <- as.numeric(numeros_ordenados)\n",
    "    t <- length(numeros)\n",
    "    meio <- t / 2\n",
    "    med <- 0\n",
    "    if(t %% 2 == 0){\n",
    "        med <- (numeros[meio] + numeros[meio + 1])/2\n",
    "    }else{\n",
    "        meio <- ceiling(meio)\n",
    "        med <- numeros[meio]\n",
    "    }\n",
    "    return(med)\n",
    "}\n",
    "mediana(numeros_ordenados)"
   ]
  },
  {
   "cell_type": "markdown",
   "id": "62c90ab9-8a9b-44b3-951b-fcd9c7cb3b4b",
   "metadata": {},
   "source": [
    "## Mediana Ponderada\n",
    "\n",
    "Usarei um trecho do livro em que o autor explica mediana ponderada e posteriormente explico como analisar o seu resultado, vamos ao trecho:\n",
    "\n",
    "\"_Em vez de um número central, a mediana ponderada é um valor cuja a soma dos pesos é igual para as metades superior e inferior da lista classificada_\""
   ]
  },
  {
   "cell_type": "markdown",
   "id": "b8fac9eb-8db5-48c7-b5be-27777848f254",
   "metadata": {},
   "source": [
    "### Calculando mediana ponderada em Python"
   ]
  },
  {
   "cell_type": "code",
   "execution_count": 27,
   "id": "9d9c785b-e752-48e6-becc-2b40eaf31fa9",
   "metadata": {},
   "outputs": [
    {
     "data": {
      "text/plain": [
       "{10: 1, 12: 2, 15: 3, 18: 2, 20: 2}"
      ]
     },
     "execution_count": 27,
     "metadata": {},
     "output_type": "execute_result"
    }
   ],
   "source": [
    "dic_valores = {10: 1, 12: 2, 15: 3, 18: 2, 20: 2}\n",
    "dic_valores"
   ]
  },
  {
   "cell_type": "code",
   "execution_count": 28,
   "id": "ca83cc60-4fb0-4638-b25f-dc403cdf7aaf",
   "metadata": {},
   "outputs": [
    {
     "name": "stdout",
     "output_type": "stream",
     "text": [
      "Peso acumulado: 10\n",
      "Peso acumulado divido por dois: 5\n"
     ]
    }
   ],
   "source": [
    "sum_v = 0\n",
    "w = 0\n",
    "for v in dic_valores.values():\n",
    "    sum_v += v\n",
    "    w = sum_v // 2\n",
    "print(f'Peso acumulado: {sum_v}')\n",
    "print(f'Peso acumulado divido por dois: {w}')"
   ]
  },
  {
   "cell_type": "code",
   "execution_count": 29,
   "id": "04a95451-d053-479b-8411-5b5cdaffee6b",
   "metadata": {},
   "outputs": [
    {
     "name": "stdout",
     "output_type": "stream",
     "text": [
      "Mediana ponderada: 15\n",
      "6\n"
     ]
    }
   ],
   "source": [
    "acumula_pesos = 0\n",
    "mediana_ponderada = 0\n",
    "for val, ps in dic_valores.items():\n",
    "    acumula_pesos += ps\n",
    "    if acumula_pesos >= w:\n",
    "        mediana_ponderada = val\n",
    "        break\n",
    "print(f'Mediana ponderada: {mediana_ponderada}')\n",
    "print(acumula_pesos)"
   ]
  },
  {
   "cell_type": "markdown",
   "id": "5274aa46-007c-403d-9f09-3d653a67f2c8",
   "metadata": {},
   "source": [
    "### Compreendendo o resultado\n",
    "\n",
    "A mediana ponderada é 15 porque se olharmos o nosso conjunto de dados veremos que o peso acumulado é 10 e sua divião por 2 é 5, precisamos então encontrar nos dados o exato momento em que o valor 5 é atingido, se formos ver, até o 12 esse valor não é atingido porque a soma dos pesos da 4, logo quando chegamos ao 15 temos o resultado 5 atingido, sendo a soma dos pesos igual a 6, por isso o resultado é 15.\n",
    "\n",
    "Em caso de haver dois valores que atinjam a divisão do peso acumulado, podemos considerar o valor que o atinge primeiro, nesse caso supondo que 12 e 15 alcançasse 5, o resultado seria 12, porque é o primeiro valor que atinge a divisão do peso acumulado."
   ]
  },
  {
   "cell_type": "markdown",
   "id": "8165bf87-37d4-4a46-8cbb-0f575b06c47a",
   "metadata": {},
   "source": [
    "### Calculando mediana ponderada em R\n",
    "\n",
    "Em R não temos estruturas como dicionário em Python, uma das formas de simular estrutura chave e valor  é utilizando lista de forma que a chaves estejam entre aspas ou não sejam números, posteriormente atribuímos o valor a cada uma delas. Essa foi uma descoberta muito interessante e a forma como acessar os valores foi muito sutil utilizando o método names() e passando para ele o nome da lista. O restante do cálculo foi igual ao do Python. É muito bom trabalhar com duas linguagens opostas em sintaxe e estrutura de dados."
   ]
  },
  {
   "cell_type": "code",
   "execution_count": 30,
   "id": "3b1560f6-8654-4cc9-85c7-82a6d22b8444",
   "metadata": {},
   "outputs": [
    {
     "name": "stdout",
     "output_type": "stream",
     "text": [
      "$`10`\n",
      "[1] 1\n",
      "\n",
      "$`12`\n",
      "[1] 2\n",
      "\n",
      "$`15`\n",
      "[1] 3\n",
      "\n",
      "$`18`\n",
      "[1] 2\n",
      "\n",
      "$`20`\n",
      "[1] 2\n",
      "\n"
     ]
    }
   ],
   "source": [
    "%%R\n",
    "dados <- list(\"10\" = 1,\"12\" = 2, \"15\" = 3, \"18\" = 2, \"20\" = 2)\n",
    "dados"
   ]
  },
  {
   "cell_type": "code",
   "execution_count": 31,
   "id": "8f5c76bd-adc4-4fd9-b122-f511ca1843fd",
   "metadata": {},
   "outputs": [
    {
     "name": "stdout",
     "output_type": "stream",
     "text": [
      "[1] 10\n",
      "[1] 5\n"
     ]
    }
   ],
   "source": [
    "%%R\n",
    "soma <- 0\n",
    "peso <- 0\n",
    "\n",
    "for(dado in names(dados)){\n",
    "  soma <- soma + dados[[dado]]\n",
    "  peso <- soma / 2\n",
    "}\n",
    "print(soma)\n",
    "print(peso)"
   ]
  },
  {
   "cell_type": "code",
   "execution_count": 32,
   "id": "a92a5780-4055-4ece-b174-f1efcfd7766d",
   "metadata": {},
   "outputs": [
    {
     "name": "stdout",
     "output_type": "stream",
     "text": [
      "[1] \"15\"\n"
     ]
    }
   ],
   "source": [
    "%%R\n",
    "acum <- 0\n",
    "med_ponderada <- 0\n",
    "\n",
    "for(valor in names(dados)){\n",
    "  acum <- acum + dados[[valor]]\n",
    "  if(acum >= peso){\n",
    "    med_ponderada = valor\n",
    "    break\n",
    "  }\n",
    "}\n",
    "print(med_ponderada)"
   ]
  },
  {
   "cell_type": "markdown",
   "id": "cbd66c5f-8a39-4e3a-9626-3e43657e2f68",
   "metadata": {},
   "source": [
    "## Análise da base de dados State sobre taxa de homícidio dada a população e o estado, em Python\n",
    "\n",
    "Nessa primeira fase da análise vamos extrair as seguintes estimativas de localização:\n",
    "\n",
    "1. Média\n",
    "2. Média Aparada com aparação de 10% dos dados\n",
    "3. Mediana\n",
    "4. Média Ponderada\n",
    "5. Mediana Ponderada\n",
    "\n",
    "_A ordem das estimativas segue a ordem do livro_\n",
    "\n",
    "Para essa análise precisei utilizar quatro bibliotecas, vamos a elas:\n",
    "\n",
    "1. Pandas para exploração inicial dos dados\n",
    "2. Numpy para cálculos da Média, Média Ponderada e Mediana\n",
    "3. Scipy importando o módulo Stats para cálculo da Média Aparada\n",
    "4. Wquantiles para o cálculo da Mediana Ponderada"
   ]
  },
  {
   "cell_type": "code",
   "execution_count": 33,
   "id": "ab5dc270-42ca-4bd9-b209-1d86ac7ec079",
   "metadata": {},
   "outputs": [],
   "source": [
    "import pandas as pd\n",
    "import numpy as np"
   ]
  },
  {
   "cell_type": "code",
   "execution_count": 34,
   "id": "07c9384f-9bb9-4887-b37c-ffbd02dc44b0",
   "metadata": {},
   "outputs": [],
   "source": [
    "from scipy import stats"
   ]
  },
  {
   "cell_type": "code",
   "execution_count": 35,
   "id": "84b26425-5591-4b7f-bccc-178471df8662",
   "metadata": {},
   "outputs": [
    {
     "data": {
      "text/html": [
       "<div>\n",
       "<style scoped>\n",
       "    .dataframe tbody tr th:only-of-type {\n",
       "        vertical-align: middle;\n",
       "    }\n",
       "\n",
       "    .dataframe tbody tr th {\n",
       "        vertical-align: top;\n",
       "    }\n",
       "\n",
       "    .dataframe thead th {\n",
       "        text-align: right;\n",
       "    }\n",
       "</style>\n",
       "<table border=\"1\" class=\"dataframe\">\n",
       "  <thead>\n",
       "    <tr style=\"text-align: right;\">\n",
       "      <th></th>\n",
       "      <th>State</th>\n",
       "      <th>Population</th>\n",
       "      <th>Murder.Rate</th>\n",
       "      <th>Abbreviation</th>\n",
       "    </tr>\n",
       "  </thead>\n",
       "  <tbody>\n",
       "    <tr>\n",
       "      <th>0</th>\n",
       "      <td>Alabama</td>\n",
       "      <td>4779736</td>\n",
       "      <td>5.7</td>\n",
       "      <td>AL</td>\n",
       "    </tr>\n",
       "    <tr>\n",
       "      <th>1</th>\n",
       "      <td>Alaska</td>\n",
       "      <td>710231</td>\n",
       "      <td>5.6</td>\n",
       "      <td>AK</td>\n",
       "    </tr>\n",
       "    <tr>\n",
       "      <th>2</th>\n",
       "      <td>Arizona</td>\n",
       "      <td>6392017</td>\n",
       "      <td>4.7</td>\n",
       "      <td>AZ</td>\n",
       "    </tr>\n",
       "    <tr>\n",
       "      <th>3</th>\n",
       "      <td>Arkansas</td>\n",
       "      <td>2915918</td>\n",
       "      <td>5.6</td>\n",
       "      <td>AR</td>\n",
       "    </tr>\n",
       "    <tr>\n",
       "      <th>4</th>\n",
       "      <td>California</td>\n",
       "      <td>37253956</td>\n",
       "      <td>4.4</td>\n",
       "      <td>CA</td>\n",
       "    </tr>\n",
       "  </tbody>\n",
       "</table>\n",
       "</div>"
      ],
      "text/plain": [
       "        State  Population  Murder.Rate Abbreviation\n",
       "0     Alabama     4779736          5.7           AL\n",
       "1      Alaska      710231          5.6           AK\n",
       "2     Arizona     6392017          4.7           AZ\n",
       "3    Arkansas     2915918          5.6           AR\n",
       "4  California    37253956          4.4           CA"
      ]
     },
     "execution_count": 35,
     "metadata": {},
     "output_type": "execute_result"
    }
   ],
   "source": [
    "df = pd.read_csv('state.csv')\n",
    "df.head()"
   ]
  },
  {
   "cell_type": "code",
   "execution_count": 36,
   "id": "215958a5-55b5-4bea-95fc-a03102774244",
   "metadata": {},
   "outputs": [
    {
     "data": {
      "text/plain": [
       "(50, 4)"
      ]
     },
     "execution_count": 36,
     "metadata": {},
     "output_type": "execute_result"
    }
   ],
   "source": [
    "df.shape"
   ]
  },
  {
   "cell_type": "code",
   "execution_count": 37,
   "id": "4d70adbd-ea19-46e5-9807-d683354ec977",
   "metadata": {},
   "outputs": [
    {
     "data": {
      "text/plain": [
       "State           0\n",
       "Population      0\n",
       "Murder.Rate     0\n",
       "Abbreviation    0\n",
       "dtype: int64"
      ]
     },
     "execution_count": 37,
     "metadata": {},
     "output_type": "execute_result"
    }
   ],
   "source": [
    "df.isnull().sum()"
   ]
  },
  {
   "cell_type": "code",
   "execution_count": 38,
   "id": "12499705-3e09-43a7-9de3-138d23d07e09",
   "metadata": {},
   "outputs": [
    {
     "data": {
      "text/plain": [
       "State            object\n",
       "Population        int64\n",
       "Murder.Rate     float64\n",
       "Abbreviation     object\n",
       "dtype: object"
      ]
     },
     "execution_count": 38,
     "metadata": {},
     "output_type": "execute_result"
    }
   ],
   "source": [
    "df.dtypes"
   ]
  },
  {
   "cell_type": "code",
   "execution_count": 39,
   "id": "dbd86745-2569-446c-ba17-a78fd276e3c2",
   "metadata": {},
   "outputs": [
    {
     "name": "stdout",
     "output_type": "stream",
     "text": [
      "<class 'pandas.core.frame.DataFrame'>\n",
      "RangeIndex: 50 entries, 0 to 49\n",
      "Data columns (total 4 columns):\n",
      " #   Column        Non-Null Count  Dtype  \n",
      "---  ------        --------------  -----  \n",
      " 0   State         50 non-null     object \n",
      " 1   Population    50 non-null     int64  \n",
      " 2   Murder.Rate   50 non-null     float64\n",
      " 3   Abbreviation  50 non-null     object \n",
      "dtypes: float64(1), int64(1), object(2)\n",
      "memory usage: 1.7+ KB\n"
     ]
    }
   ],
   "source": [
    "df.info()"
   ]
  },
  {
   "cell_type": "code",
   "execution_count": 40,
   "id": "0bffcab2-73ad-4bea-b153-2fb7591b8412",
   "metadata": {},
   "outputs": [
    {
     "data": {
      "text/html": [
       "<div>\n",
       "<style scoped>\n",
       "    .dataframe tbody tr th:only-of-type {\n",
       "        vertical-align: middle;\n",
       "    }\n",
       "\n",
       "    .dataframe tbody tr th {\n",
       "        vertical-align: top;\n",
       "    }\n",
       "\n",
       "    .dataframe thead th {\n",
       "        text-align: right;\n",
       "    }\n",
       "</style>\n",
       "<table border=\"1\" class=\"dataframe\">\n",
       "  <thead>\n",
       "    <tr style=\"text-align: right;\">\n",
       "      <th></th>\n",
       "      <th>Population</th>\n",
       "      <th>Murder.Rate</th>\n",
       "    </tr>\n",
       "  </thead>\n",
       "  <tbody>\n",
       "    <tr>\n",
       "      <th>count</th>\n",
       "      <td>5.000000e+01</td>\n",
       "      <td>50.000000</td>\n",
       "    </tr>\n",
       "    <tr>\n",
       "      <th>mean</th>\n",
       "      <td>6.162876e+06</td>\n",
       "      <td>4.066000</td>\n",
       "    </tr>\n",
       "    <tr>\n",
       "      <th>std</th>\n",
       "      <td>6.848235e+06</td>\n",
       "      <td>1.915736</td>\n",
       "    </tr>\n",
       "    <tr>\n",
       "      <th>min</th>\n",
       "      <td>5.636260e+05</td>\n",
       "      <td>0.900000</td>\n",
       "    </tr>\n",
       "    <tr>\n",
       "      <th>25%</th>\n",
       "      <td>1.833004e+06</td>\n",
       "      <td>2.425000</td>\n",
       "    </tr>\n",
       "    <tr>\n",
       "      <th>50%</th>\n",
       "      <td>4.436370e+06</td>\n",
       "      <td>4.000000</td>\n",
       "    </tr>\n",
       "    <tr>\n",
       "      <th>75%</th>\n",
       "      <td>6.680312e+06</td>\n",
       "      <td>5.550000</td>\n",
       "    </tr>\n",
       "    <tr>\n",
       "      <th>max</th>\n",
       "      <td>3.725396e+07</td>\n",
       "      <td>10.300000</td>\n",
       "    </tr>\n",
       "  </tbody>\n",
       "</table>\n",
       "</div>"
      ],
      "text/plain": [
       "         Population  Murder.Rate\n",
       "count  5.000000e+01    50.000000\n",
       "mean   6.162876e+06     4.066000\n",
       "std    6.848235e+06     1.915736\n",
       "min    5.636260e+05     0.900000\n",
       "25%    1.833004e+06     2.425000\n",
       "50%    4.436370e+06     4.000000\n",
       "75%    6.680312e+06     5.550000\n",
       "max    3.725396e+07    10.300000"
      ]
     },
     "execution_count": 40,
     "metadata": {},
     "output_type": "execute_result"
    }
   ],
   "source": [
    "df.describe()"
   ]
  },
  {
   "cell_type": "markdown",
   "id": "7635d361-5253-42e4-b7d8-0f3201d294f9",
   "metadata": {},
   "source": [
    "## Primeiras observações e estimativas de localização\n",
    "\n",
    "Não possuimos dados nulos nem dados que necessitam de tratamento, todos estão em tipos de dados adequados para cálculos estatísticos ou manipulação de strings (no caso de dados do tipo Object)\n",
    "\n",
    "Abaixo temos o cálculo das estimativas de localização"
   ]
  },
  {
   "cell_type": "code",
   "execution_count": 41,
   "id": "55daf99a-3809-48f2-ad58-98e4f78c2206",
   "metadata": {},
   "outputs": [
    {
     "data": {
      "text/plain": [
       "np.float64(6162876.3)"
      ]
     },
     "execution_count": 41,
     "metadata": {},
     "output_type": "execute_result"
    }
   ],
   "source": [
    "# Média\n",
    "np.mean(df[\"Population\"])"
   ]
  },
  {
   "cell_type": "code",
   "execution_count": 42,
   "id": "2f472115-4c40-4b59-87e8-c6dcde0c1a44",
   "metadata": {},
   "outputs": [
    {
     "data": {
      "text/plain": [
       "np.float64(4783697.125)"
      ]
     },
     "execution_count": 42,
     "metadata": {},
     "output_type": "execute_result"
    }
   ],
   "source": [
    "# Média Aparada\n",
    "stats.trim_mean(df[\"Population\"], 0.1)"
   ]
  },
  {
   "cell_type": "code",
   "execution_count": 43,
   "id": "3410d7c6-e6db-42a5-82f8-5e7196ab0c89",
   "metadata": {},
   "outputs": [
    {
     "data": {
      "text/plain": [
       "np.float64(4.445833981123393)"
      ]
     },
     "execution_count": 43,
     "metadata": {},
     "output_type": "execute_result"
    }
   ],
   "source": [
    "# Média Ponderada\n",
    "np.average(df[\"Murder.Rate\"],None,df[\"Population\"])"
   ]
  },
  {
   "cell_type": "code",
   "execution_count": 44,
   "id": "e750568b-c3b9-48d9-9aa5-60222c665777",
   "metadata": {},
   "outputs": [
    {
     "data": {
      "text/plain": [
       "np.float64(4436369.5)"
      ]
     },
     "execution_count": 44,
     "metadata": {},
     "output_type": "execute_result"
    }
   ],
   "source": [
    "# Mediana\n",
    "np.median(df[\"Population\"])"
   ]
  },
  {
   "cell_type": "code",
   "execution_count": 45,
   "id": "e8113437-2fc2-4c4f-8eb2-22f444badf9f",
   "metadata": {},
   "outputs": [
    {
     "name": "stdout",
     "output_type": "stream",
     "text": [
      "Requirement already satisfied: wquantiles in c:\\users\\saras\\appdata\\local\\programs\\python\\python313\\lib\\site-packages (0.6)\n",
      "Requirement already satisfied: numpy>=1.18 in c:\\users\\saras\\appdata\\local\\programs\\python\\python313\\lib\\site-packages (from wquantiles) (2.3.3)\n"
     ]
    }
   ],
   "source": [
    "!pip install wquantiles"
   ]
  },
  {
   "cell_type": "code",
   "execution_count": 46,
   "id": "2bc0f057-8caa-478d-9ab4-d442eb2a1851",
   "metadata": {},
   "outputs": [
    {
     "data": {
      "text/plain": [
       "np.float64(4.4)"
      ]
     },
     "execution_count": 46,
     "metadata": {},
     "output_type": "execute_result"
    }
   ],
   "source": [
    "# Mediana Ponderada\n",
    "import wquantiles\n",
    "wquantiles.median(df[\"Murder.Rate\"], df[\"Population\"])"
   ]
  },
  {
   "cell_type": "markdown",
   "id": "0ec4f90f-26e4-43f8-b2c5-f1e7260aa361",
   "metadata": {},
   "source": [
    "## Análise da base de dados State sobre taxa de homícidio dada a população e o estado, em R\n",
    "\n",
    "Nessa primeira fase da análise vamos extrair as seguintes estimativas de localização:\n",
    "\n",
    "1. Média\n",
    "2. Média Aparada com aparação de 10% dos dados\n",
    "4. Mediana\n",
    "5. Média Ponderada\n",
    "6. Mediana Ponderada\n",
    "\n",
    "_A ordem das estimativas segue a ordem do livro_\n",
    "\n",
    "A linguagem R possui pacotes e funções estatísticas internas que facilitam o cálculo das estimativas tanto que apenas precisei instalar um pacote externo: MatrixStats para calcular a Mediana Ponderada. Isso é incrível!"
   ]
  },
  {
   "cell_type": "code",
   "execution_count": 47,
   "id": "a41b09d8-dff4-4601-85dc-52d5f0c141f7",
   "metadata": {},
   "outputs": [
    {
     "name": "stdout",
     "output_type": "stream",
     "text": [
      "[1] 6162876\n"
     ]
    }
   ],
   "source": [
    "%%R -i df\n",
    "#Média em R\n",
    "mean(df$Population)"
   ]
  },
  {
   "cell_type": "code",
   "execution_count": 48,
   "id": "b93545f6-a371-4981-9505-df98c8414626",
   "metadata": {},
   "outputs": [
    {
     "name": "stdout",
     "output_type": "stream",
     "text": [
      "[1] 4783697\n"
     ]
    }
   ],
   "source": [
    "%%R\n",
    "# Média Aparada em R\n",
    "mean(df$Population, trim=0.1)"
   ]
  },
  {
   "cell_type": "code",
   "execution_count": 49,
   "id": "713c21e9-099c-4f96-aa31-44cd0ebdceac",
   "metadata": {},
   "outputs": [
    {
     "name": "stdout",
     "output_type": "stream",
     "text": [
      "[1] 4436370\n"
     ]
    }
   ],
   "source": [
    "%%R\n",
    "# Mediana e R\n",
    "median(df$Population)"
   ]
  },
  {
   "cell_type": "code",
   "execution_count": 50,
   "id": "cc431f62-bd21-48aa-a21d-aa6a068ae419",
   "metadata": {},
   "outputs": [
    {
     "name": "stdout",
     "output_type": "stream",
     "text": [
      "[1] 4.445834\n"
     ]
    }
   ],
   "source": [
    "%%R\n",
    "# Média Ponderada em R\n",
    "weighted.mean(df[[\"Murder.Rate\"]], w=df[[\"Population\"]])"
   ]
  },
  {
   "cell_type": "code",
   "execution_count": 51,
   "id": "4ea0a970-ac8e-42b0-b766-a5dfb4a47ebe",
   "metadata": {},
   "outputs": [
    {
     "name": "stderr",
     "output_type": "stream",
     "text": [
      "R callback write-console: <class 'UnicodeDecodeError'> 'utf-8' codec can't decode byte 0xe3 in position 83: invalid continuation byte <traceback object at 0x00000187DE56FDC0>\n",
      "R callback write-console: <class 'UnicodeDecodeError'> 'utf-8' codec can't decode byte 0xe3 in position 56: invalid continuation byte <traceback object at 0x00000187EE3CF780>\n"
     ]
    },
    {
     "name": "stdout",
     "output_type": "stream",
     "text": [
      "\n",
      "pacote 'matrixStats' desempacotado com sucesso e somas MD5 verificadas\n",
      "\n"
     ]
    },
    {
     "name": "stderr",
     "output_type": "stream",
     "text": [
      "R callback write-console: <class 'UnicodeDecodeError'> 'utf-8' codec can't decode byte 0xe1 in position 14: invalid continuation byte <traceback object at 0x00000187DE552D80>\n"
     ]
    },
    {
     "name": "stdout",
     "output_type": "stream",
     "text": [
      "\n"
     ]
    },
    {
     "data": {
      "text/plain": [
       "trying URL 'https://vps.fmvz.usp.br/CRAN/bin/windows/contrib/4.5/matrixStats_1.5.0.zip'\n",
       "Content type 'application/zip' length 559266 bytes (546 KB)\n",
       "downloaded 546 KB\n",
       "\n"
      ]
     },
     "metadata": {},
     "output_type": "display_data"
    }
   ],
   "source": [
    "%%R\n",
    "install.packages(\"matrixStats\")"
   ]
  },
  {
   "cell_type": "code",
   "execution_count": 52,
   "id": "2f2ff018-f097-4372-851e-d63b6cddcdde",
   "metadata": {},
   "outputs": [
    {
     "name": "stdout",
     "output_type": "stream",
     "text": [
      "[1] 4.4\n"
     ]
    }
   ],
   "source": [
    "%%R\n",
    "library(\"matrixStats\")\n",
    "# Mediana Ponderada em R\n",
    "weightedMedian(df[[\"Murder.Rate\"]], w=df[[\"Population\"]])"
   ]
  },
  {
   "cell_type": "markdown",
   "id": "941cc678-d12f-4ab0-b11f-999757ef3f4e",
   "metadata": {},
   "source": [
    "## Estimativa de Variabilidade\n",
    "\n",
    "Após encontramos as estimativas de localização (tendência central) que nos informa qual valor divide o nosso conjunto de dados entre valores inferiores e superiores, precisamos compreender o quanto eles se dispersam deste valor central. É neste momento que aplicamos as estimativas de variabilidde  (dispersão), sendo as mais comuns: variância, desvio padrão e medidas baseadas em percentis. Vamos compreendê-las com um conjunto de dados simples e posteriormente com a base State."
   ]
  },
  {
   "cell_type": "markdown",
   "id": "704778a8-f286-410b-9d17-69c99bbf1310",
   "metadata": {},
   "source": [
    "### Estimativas baseadas no desvio\n",
    "\n",
    "O cálculo do desvio nos informa o quanto os dados estão se desviando da média. É uma medida sensível a outliers, contudo é mais preferível do que a variância. No livro o autor mostra três formas de calcular o desvio, são elas:\n",
    "\n",
    "1. Desvio Absoluto Médio: A soma das diferenças entre os valores e a média\n",
    "2. Desvio Absoluto Mediano: A mediana dos desvios\n",
    "3. Desvio Padrão: Raiz quadrada da variância.\n",
    "4. Variância (Amostral): A soma das diferenças entre os valores e a média elevada ao quadrado e posteriormente dividida pela quantidade de elementos - 1\n",
    "\n",
    "_Como usaremos a lib Numpy passaremos os dados diretamente, mas em caso de cálculo manual é preciso calcular a variância antes de calcular o desvio padrão._"
   ]
  },
  {
   "cell_type": "markdown",
   "id": "36344756-64a0-401b-97f4-6427c741645a",
   "metadata": {},
   "source": [
    "**Desvio Absoluto Médio**"
   ]
  },
  {
   "cell_type": "code",
   "execution_count": 53,
   "id": "7ea1e97f-b28e-417b-ad66-77b672c9143b",
   "metadata": {},
   "outputs": [
    {
     "data": {
      "text/plain": [
       "np.float64(4.0)"
      ]
     },
     "execution_count": 53,
     "metadata": {},
     "output_type": "execute_result"
    }
   ],
   "source": [
    "dados = [1,4,4]\n",
    "\n",
    "media = np.mean(dados)\n",
    "\n",
    "def stdMedio(dados):\n",
    "    dif = 0\n",
    "    for x in dados:\n",
    "        dif += (abs(x - media))\n",
    "    return dif\n",
    "    \n",
    "round(stdMedio(dados),2)"
   ]
  },
  {
   "cell_type": "markdown",
   "id": "708436b9-9471-4a15-94cb-54f9ef67ff90",
   "metadata": {},
   "source": [
    "**Desvio Absoluto Mediano**"
   ]
  },
  {
   "cell_type": "code",
   "execution_count": 54,
   "id": "c8e2f52f-81d5-45e1-9cd3-5484c6dcd21d",
   "metadata": {},
   "outputs": [
    {
     "data": {
      "text/plain": [
       "np.float64(1.0)"
      ]
     },
     "execution_count": 54,
     "metadata": {},
     "output_type": "execute_result"
    }
   ],
   "source": [
    "dados = [1,1,2,2,4,6,9]\n",
    "mediana = np.median(dados)\n",
    "\n",
    "def stdMediano(mediana, dados):\n",
    "    dif = []\n",
    "    for x in dados:\n",
    "        dif.append(abs(x - mediana))\n",
    "    return dif\n",
    "\n",
    "stdMediano = stdMediano(mediana, dados)\n",
    "np.median(stdMediano)"
   ]
  },
  {
   "cell_type": "markdown",
   "id": "3531e1b1-8c3c-43d8-9f28-dec124072021",
   "metadata": {},
   "source": [
    "**Desvio Padrão**"
   ]
  },
  {
   "cell_type": "code",
   "execution_count": 55,
   "id": "6c1736db-4195-4006-974a-ac1684a26a93",
   "metadata": {},
   "outputs": [
    {
     "data": {
      "text/plain": [
       "np.float64(2.99)"
      ]
     },
     "execution_count": 55,
     "metadata": {},
     "output_type": "execute_result"
    }
   ],
   "source": [
    "# o ddof permite que trabalhemos como desvio padrão amostral\n",
    "round(np.std(dados, ddof = 1),2)"
   ]
  },
  {
   "cell_type": "markdown",
   "id": "39181ca6-1dda-49db-aafd-8915893e9cca",
   "metadata": {},
   "source": [
    "## Estimativas baseadas em Percentis\n",
    "\n",
    "Anteriormente, falamos sobre as estimativas baseadas em desvio. Uma das aplicações desse tipo de análise é o estudo do desempenho de turmas em um exame. Quando as médias estão muito dispersas em relação à média central, podemos afirmar que os resultados foram mais heterogêneos do que homogêneos, indicando uma distribuição assimétrica. Essa informação nos leva a investigar as possíveis causas da dispersão. Trata-se de um exemplo simples, mas que ilustra bem a utilidade das estimativas de dispersão.\n",
    "\n",
    "Agora, vamos abordar as estimativas baseadas em **percentis**, que estão relacionadas à forma como os dados se distribuem. Elas são mais bem interpretadas por meio de visualizações, como o **Boxplot**, que evidencia a existência de *outliers* e mostra como os dados se concentram em torno da **mediana** (ou segundo quartil, 50%).\n",
    "\n",
    "A seguir, analisamos o cálculo da **amplitude interquartil (AIQ)**, uma medida mais robusta do que a amplitude simples — que representa apenas a diferença entre o maior e o menor valor do conjunto. A amplitude simples é sensível a valores extremos, enquanto a amplitude interquartil considera apenas os dados entre o primeiro (Q1) e o terceiro quartil (Q3), eliminando uma proporção dos valores mais baixos e mais altos. Dessa forma, obtemos uma medida mais estável de dispersão.\n",
    "\n",
    "A tabela abaixo, que elaborei a partir dos dados fornecidos pelo autor, mostra o particionamento dos dados, as medianas de cada parte e a diferença entre Q3 e Q1. Logo abaixo, apresento os resultados obtidos pelos cálculos manuais e pelas funções de bibliotecas do **Python** e do **R**. Observa-se que há pequenas diferenças entre os resultados.\n",
    "\n",
    "Essas diferenças não significam que um método esteja certo e o outro errado. Na prática, utilizamos os valores retornados pelas funções padrão, mas é possível ajustar o método de cada biblioteca para reproduzir o cálculo manual. A variação ocorre porque existem diversas formas de calcular a amplitude interquartil — assim como há diferentes métodos para calcular uma raiz quadrada. Como o próprio autor destaca, não devemos nos preocupar com isso: basta compreender que os métodos variam e que essa diferença é natural."
   ]
  },
  {
   "attachments": {
    "07323a07-748c-4b6a-8c88-ef2e651d6faa.png": {
     "image/png": "[encoded data removed]"
    }
   },
   "cell_type": "markdown",
   "id": "fc5eedad-1c57-4949-b244-d3053f77b29d",
   "metadata": {},
   "source": [
    "![image.png](attachment:07323a07-748c-4b6a-8c88-ef2e651d6faa.png)"
   ]
  },
  {
   "cell_type": "code",
   "execution_count": 56,
   "id": "e3ff870b-2b54-4142-b845-4e443afc5098",
   "metadata": {},
   "outputs": [
    {
     "data": {
      "text/plain": [
       "np.float64(4.0)"
      ]
     },
     "execution_count": 56,
     "metadata": {},
     "output_type": "execute_result"
    }
   ],
   "source": [
    "dados = [1,2,3,3,5,6,7,9]\n",
    "\n",
    "Q1 = dados[0:4] # 25%\n",
    "Q2 = np.median(dados) # 50%\n",
    "Q3 = dados[4:] # 75%\n",
    "\n",
    "mediana_Q1, mediana_Q3 = np.median(Q1), np.median(Q3)\n",
    "\n",
    "# Amplitude Interquartil\n",
    "IQR = mediana_Q3 - mediana_Q1\n",
    "IQR"
   ]
  },
  {
   "cell_type": "markdown",
   "id": "38c36d5b-02aa-4c0e-8dd0-c3c534c8dacb",
   "metadata": {},
   "source": [
    "**Amplitude Interquartil com Numpy**"
   ]
  },
  {
   "cell_type": "code",
   "execution_count": 57,
   "id": "1ce510b1-d49f-4f23-aee0-f95998f6251e",
   "metadata": {},
   "outputs": [
    {
     "data": {
      "text/plain": [
       "np.float64(3.5)"
      ]
     },
     "execution_count": 57,
     "metadata": {},
     "output_type": "execute_result"
    }
   ],
   "source": [
    "Q3, Q1 = np.percentile(dados, q=[75,25])\n",
    "IQR = Q3 - Q1\n",
    "IQR"
   ]
  },
  {
   "cell_type": "markdown",
   "id": "bce4bf21-948c-4fcd-b71f-924faccc6a5a",
   "metadata": {},
   "source": [
    "**Amplitude Interquartil com Pandas**"
   ]
  },
  {
   "cell_type": "code",
   "execution_count": 58,
   "id": "8eed1f09-62ca-4e53-b4bf-e8c6a2acc2cb",
   "metadata": {},
   "outputs": [
    {
     "data": {
      "text/plain": [
       "np.float64(3.5)"
      ]
     },
     "execution_count": 58,
     "metadata": {},
     "output_type": "execute_result"
    }
   ],
   "source": [
    "valores = pd.Series(dados)\n",
    "Q3, Q1 = valores.quantile(0.75), valores.quantile(0.25)\n",
    "IQR  = Q3 - Q1\n",
    "IQR"
   ]
  },
  {
   "cell_type": "markdown",
   "id": "4baced28-fc56-4116-9c53-ded10faf5fc6",
   "metadata": {},
   "source": [
    "**Amplitude Interquartil com Scipy**"
   ]
  },
  {
   "cell_type": "code",
   "execution_count": 59,
   "id": "b6867ee3-779d-4df4-926d-c0915e6e7cda",
   "metadata": {},
   "outputs": [
    {
     "data": {
      "text/plain": [
       "np.float64(3.5)"
      ]
     },
     "execution_count": 59,
     "metadata": {},
     "output_type": "execute_result"
    }
   ],
   "source": [
    "from scipy import stats\n",
    "stats.iqr(dados)"
   ]
  },
  {
   "cell_type": "markdown",
   "id": "3c5fe2dc-afdf-4a05-9d6e-02b4a7a81ecb",
   "metadata": {},
   "source": [
    "**Amplitude Interquartil com R**"
   ]
  },
  {
   "cell_type": "code",
   "execution_count": 60,
   "id": "b9f0463c-d50c-4211-8bf7-1aa2bbdd452b",
   "metadata": {},
   "outputs": [
    {
     "name": "stdout",
     "output_type": "stream",
     "text": [
      "[1] 3.5\n"
     ]
    }
   ],
   "source": [
    "%%R -i dados\n",
    "\n",
    "IQR(dados)"
   ]
  },
  {
   "cell_type": "markdown",
   "id": "3531c250-029f-4da0-90f2-d2f0f28db991",
   "metadata": {},
   "source": [
    "## Aplicando as estimativas de variabilidade na base State em Python\n",
    "\n",
    "Para essa análise serão aplicadas apenas as medidas de:\n",
    "\n",
    "1. Desvio Padrão\n",
    "2. Desvio Absoluto Mediano\n",
    "3. Amplitude Interquartil\n",
    "\n",
    "_A aplicação das medidas foi de escolha do autor_"
   ]
  },
  {
   "cell_type": "code",
   "execution_count": 61,
   "id": "2a5b075f-2cbf-4ff8-af55-dc10fbf20c64",
   "metadata": {},
   "outputs": [
    {
     "data": {
      "text/plain": [
       "np.float64(6848235.347401142)"
      ]
     },
     "execution_count": 61,
     "metadata": {},
     "output_type": "execute_result"
    }
   ],
   "source": [
    "# Desvio Padrão\n",
    "np.std(df[\"Population\"], ddof=1)"
   ]
  },
  {
   "cell_type": "code",
   "execution_count": 62,
   "id": "a64434fd-3dc1-4bd0-9603-3165578679ec",
   "metadata": {},
   "outputs": [
    {
     "data": {
      "text/plain": [
       "np.float64(2596702.0)"
      ]
     },
     "execution_count": 62,
     "metadata": {},
     "output_type": "execute_result"
    }
   ],
   "source": [
    "# Desvio Absoluto Mediano\n",
    "stats.median_abs_deviation(df[\"Population\"])"
   ]
  },
  {
   "cell_type": "code",
   "execution_count": 63,
   "id": "d7535da2-5a9c-46fc-a8ff-dce2efa79e0b",
   "metadata": {},
   "outputs": [
    {
     "data": {
      "text/plain": [
       "np.float64(4847308.0)"
      ]
     },
     "execution_count": 63,
     "metadata": {},
     "output_type": "execute_result"
    }
   ],
   "source": [
    "# Amplitude Interquartil\n",
    "stats.iqr(df[\"Population\"])"
   ]
  },
  {
   "cell_type": "markdown",
   "id": "d4d6d9db-b307-453e-9520-3e54b3b92b5e",
   "metadata": {},
   "source": [
    "## Aplicando as estimativas de variabilidade na base State em R\n",
    "\n",
    "Para essa análise serão aplicadas apenas as medidas de:\n",
    "\n",
    "1. Desvio Padrão\n",
    "2. Desvio Absoluto Mediano\n",
    "3. Amplitude Interquartil\n",
    "\n",
    "_A aplicação das medidas foi de escolha do autor_"
   ]
  },
  {
   "cell_type": "code",
   "execution_count": 64,
   "id": "1667b706-9a85-42d6-8d21-9448a3f98412",
   "metadata": {},
   "outputs": [
    {
     "name": "stdout",
     "output_type": "stream",
     "text": [
      "[1] 6848235\n"
     ]
    }
   ],
   "source": [
    "%%R \n",
    "# Desvio Padrão\n",
    "sd(df$Population)"
   ]
  },
  {
   "cell_type": "code",
   "execution_count": 65,
   "id": "71c8baf6-c58c-4a76-9db7-bcaedffe955f",
   "metadata": {},
   "outputs": [
    {
     "name": "stdout",
     "output_type": "stream",
     "text": [
      "[1] 3849870\n"
     ]
    }
   ],
   "source": [
    "%%R\n",
    "# Desvio Absoluto Mediano\n",
    "mad(df$Population)"
   ]
  },
  {
   "cell_type": "code",
   "execution_count": 66,
   "id": "00acbbc5-2247-44c9-a252-7a0af990d6e8",
   "metadata": {},
   "outputs": [
    {
     "name": "stdout",
     "output_type": "stream",
     "text": [
      "[1] 4847308\n"
     ]
    }
   ],
   "source": [
    "%%R\n",
    "# Amplitude Interquartil\n",
    "IQR(df$Population)"
   ]
  },
  {
   "cell_type": "code",
   "execution_count": null,
   "id": "83d50472-8218-4ab6-907c-1e5cc54508c9",
   "metadata": {},
   "outputs": [],
   "source": []
  }
 ],
 "metadata": {
  "kernelspec": {
   "display_name": "Python 3 (ipykernel)",
   "language": "python",
   "name": "python3"
  },
  "language_info": {
   "codemirror_mode": {
    "name": "ipython",
    "version": 3
   },
   "file_extension": ".py",
   "mimetype": "text/x-python",
   "name": "python",
   "nbconvert_exporter": "python",
   "pygments_lexer": "ipython3",
   "version": "3.13.7"
  }
 },
 "nbformat": 4,
 "nbformat_minor": 5
}
