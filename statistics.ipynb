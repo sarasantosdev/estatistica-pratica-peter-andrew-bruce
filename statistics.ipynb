{
 "cells": [
  {
   "cell_type": "markdown",
   "id": "c04c7903-0f46-4ff7-a5eb-2c9b50e0fc11",
   "metadata": {},
   "source": [
    "# Estatistica Prática para Cientista de Dados: 50 conceitos essenciais"
   ]
  },
  {
   "cell_type": "markdown",
   "id": "db9b82b9-1f19-4c09-8436-787f3aebd64d",
   "metadata": {},
   "source": [
    "## Capítulo 1: Análise Exploratória de Dados"
   ]
  },
  {
   "cell_type": "markdown",
   "id": "8b5a9810-73ca-41ec-bb56-5ff20b66373e",
   "metadata": {},
   "source": [
    "### Estimativas de Localização (tendência central)\n",
    "É comum as variáveis apresentarem valores distintos, para que possamos ter um valor central onde os dados se concentram utilizamos as estimativas de localização, as mais utilizadas são: média aritmética, média aparada, média ponderada, mediana e mediana ponderada. Abaixo realizo o cálculo da média aritmética e a média aparada para que possamos compreender o impacto dos valores extremos."
   ]
  },
  {
   "cell_type": "markdown",
   "id": "8c536b2d-3289-4aa3-af99-bdaabc43cb0f",
   "metadata": {},
   "source": [
    "### Média aritmética\n",
    "É a média mais simples. Calcula-se a soma dos valores e divide pelo total de valores. Apesar de ser simples, é uma medida sensível a outliers inferiores e superiores, o que pode distorcer o resultado final, por isso foram desenvolvidas outras medidas como alternativa a média para que possamos ser o mais próximo do valor central possível.\n",
    "\n",
    "Outliers altos podem elevar o resultado da média, enquanto que outliers baixos podem decair o resultado da média, é preciso portanto haver uma espécie de \"equilíbrio\" entre os valores. Abaixo calculo a média aritmética de uma lista com dois outliers."
   ]
  },
  {
   "cell_type": "code",
   "execution_count": 3,
   "id": "d063c27f-93b9-4b35-839c-f3454b7a4863",
   "metadata": {},
   "outputs": [],
   "source": [
    "numeros = [12, 15, 14, 13, 16, 18, 20, 22, 19, 17, 14, 13, 15, 16, 200, 21, 23, 24, 22, 18, 17, 16, 15, 14, 13, 12, 11, 10, 9, -50]"
   ]
  },
  {
   "cell_type": "code",
   "execution_count": 4,
   "id": "2c80e78f-89b3-4d4f-9827-e3636ec6cd8d",
   "metadata": {},
   "outputs": [],
   "source": [
    "soma  = 0\n",
    "media = 0"
   ]
  },
  {
   "cell_type": "code",
   "execution_count": 6,
   "id": "2df4668d-3c7f-403e-b635-f94243cb1503",
   "metadata": {},
   "outputs": [
    {
     "name": "stdout",
     "output_type": "stream",
     "text": [
      "19.97\n"
     ]
    }
   ],
   "source": [
    "for n in numeros:\n",
    "    soma += n\n",
    "media = soma / len(numeros)\n",
    "print(round(media, 2))"
   ]
  },
  {
   "cell_type": "markdown",
   "id": "075a390a-427f-49c1-a2c6-ad31a8d08376",
   "metadata": {},
   "source": [
    "### Média aparada\n",
    "A média aparada remove os valores extremos que estejam afetando a média. É uma medida boa, contudo é preciso estar atento a perda de informação, aconselha-se criar uma cópia dos dados anteriores antes de rmeover os valores. Após a remoção dos outliers podemos calcular a média aritmética normalmente, claro que o tamanho da amostra será alterado e deve ser levado em consideração. Outra etapa importante para o cálculo da média aparada é a ordenação dos valores da lista, isso porque ela irá remover os valores das pontas, tantos os inferiores quanto os superiores."
   ]
  },
  {
   "cell_type": "markdown",
   "id": "cf46962d-e2e0-4994-97ab-e274d9d1af92",
   "metadata": {},
   "source": [
    "### Explicando o exemplo\n",
    "No exemplo abaixo é aparado dois valores extremos de forma manual, contudo a média aparada não lida com valores discretos e fixos, ela lida com percentual de remoção. No caso do nosso exemplo o percentual de remoção é de 6,66%, ou seja, 3,33% de cada ponta. No caso de não sabermos a quantidade exata de outliers devemos levar em consideração a análise realizada para aplicar o percentual correto de aparação, afinal perderemos informação, é preciso agir com cautela. "
   ]
  },
  {
   "cell_type": "code",
   "execution_count": 7,
   "id": "b1de829e-d7dc-475b-ae10-dce75688694b",
   "metadata": {},
   "outputs": [],
   "source": [
    "copia_numeros = numeros.copy()"
   ]
  },
  {
   "cell_type": "code",
   "execution_count": 9,
   "id": "4b39a938-2b18-46d4-bb8c-fc8b4f4e20d2",
   "metadata": {},
   "outputs": [
    {
     "name": "stdout",
     "output_type": "stream",
     "text": [
      "[-50, 9, 10, 11, 12, 12, 13, 13, 13, 14, 14, 14, 15, 15, 15, 16, 16, 16, 17, 17, 18, 18, 19, 20, 21, 22, 22, 23, 24, 200]\n"
     ]
    }
   ],
   "source": [
    "copia_numeros.sort()\n",
    "print(copia_numeros)"
   ]
  },
  {
   "cell_type": "markdown",
   "id": "d62adf3f-06ce-4a70-b125-3f02e332de7c",
   "metadata": {},
   "source": [
    "Podemos verificar que os valores extremos são -50 e 200. Esses valores estão alterando o resultado final da média, vamos removê-los."
   ]
  },
  {
   "cell_type": "code",
   "execution_count": 10,
   "id": "6dc86dd8-a892-4a53-9c93-1a09e88e7397",
   "metadata": {},
   "outputs": [
    {
     "name": "stdout",
     "output_type": "stream",
     "text": [
      "[9, 10, 11, 12, 12, 13, 13, 13, 14, 14, 14, 15, 15, 15, 16, 16, 16, 17, 17, 18, 18, 19, 20, 21, 22, 22, 23, 24]\n"
     ]
    }
   ],
   "source": [
    "copia_numeros.remove(-50)\n",
    "copia_numeros.remove(200)\n",
    "print(copia_numeros)"
   ]
  },
  {
   "cell_type": "markdown",
   "id": "8336c9bd-b65b-4b9d-98b5-3df00a18da7d",
   "metadata": {},
   "source": [
    "Vamos verificar se houve alteração no tamanho da lista, realizar essa verificação é importante."
   ]
  },
  {
   "cell_type": "code",
   "execution_count": 12,
   "id": "07fbd5a3-cb1b-445a-8696-966ab7a468d6",
   "metadata": {},
   "outputs": [
    {
     "name": "stdout",
     "output_type": "stream",
     "text": [
      "Tamanho da lista original: 30\n",
      "Tamanho da lista copiada: 28\n"
     ]
    }
   ],
   "source": [
    "print(f'Tamanho da lista original: {len(numeros)}') # tamanho da lista original\n",
    "print(f'Tamanho da lista copiada: {len(copia_numeros)}') # tamanho da lista copiada"
   ]
  },
  {
   "cell_type": "markdown",
   "id": "01966fc0-195b-49af-9449-e3c0a85b2854",
   "metadata": {},
   "source": [
    "Agora vamos calcular a média normalmente"
   ]
  },
  {
   "cell_type": "code",
   "execution_count": 44,
   "id": "cc493e37-38bb-4c9d-b1ef-97d3b98121c3",
   "metadata": {},
   "outputs": [],
   "source": [
    "soma = 0\n",
    "media = 0"
   ]
  },
  {
   "cell_type": "code",
   "execution_count": 45,
   "id": "db76d809-1220-4e43-8ef4-4c2eb79d1e7b",
   "metadata": {},
   "outputs": [
    {
     "name": "stdout",
     "output_type": "stream",
     "text": [
      "16.04\n"
     ]
    }
   ],
   "source": [
    "for numero in copia_numeros:\n",
    "    soma += numero\n",
    "media = soma / len(copia_numeros)\n",
    "print(round(media,2))"
   ]
  },
  {
   "cell_type": "markdown",
   "id": "3ee3bc69-47fd-4db4-b027-484c5a167187",
   "metadata": {},
   "source": [
    "### Aplicando percentual de 6,66% na aparação dos valores da lista numeros\n",
    "Ao final podemos verificar que o resultado foi o mesmo, mas como dito anteriormente, o valor de aparação foi dado de forma manual. Existe alguns percentuais padrões de acordo com a análise, que devem ser levados em consideração. Abaixo eu coloco uma pequena tabela com esses valores."
   ]
  },
  {
   "cell_type": "code",
   "execution_count": 57,
   "id": "bd900d87-9aa7-4fd7-8981-afed41517135",
   "metadata": {},
   "outputs": [],
   "source": [
    "n = 0\n",
    "k = 0"
   ]
  },
  {
   "cell_type": "code",
   "execution_count": 58,
   "id": "9b353330-cb71-4598-bf0d-7601de96fc24",
   "metadata": {},
   "outputs": [],
   "source": [
    "n = len(numeros)\n",
    "k = int(0.0666 * n)"
   ]
  },
  {
   "cell_type": "code",
   "execution_count": 60,
   "id": "3ebea020-7ad5-4e7e-ac63-a58e6ef404dc",
   "metadata": {},
   "outputs": [],
   "source": [
    "dados_ordenados = sorted(numeros)\n",
    "aparados = dados_ordenados[k: n - k]"
   ]
  },
  {
   "cell_type": "code",
   "execution_count": 62,
   "id": "7f70d7ae-453f-4e91-bea6-e09b29222813",
   "metadata": {},
   "outputs": [],
   "source": [
    "soma = 0\n",
    "media = 0"
   ]
  },
  {
   "cell_type": "code",
   "execution_count": 63,
   "id": "f30a12a2-1d45-4930-8bf4-8eeb43b2a0d3",
   "metadata": {},
   "outputs": [
    {
     "name": "stdout",
     "output_type": "stream",
     "text": [
      "16.04\n"
     ]
    }
   ],
   "source": [
    "for valor in aparados:\n",
    "    soma += valor\n",
    "media = soma / len(aparados)\n",
    "print(round(media, 2))"
   ]
  },
  {
   "cell_type": "markdown",
   "id": "69f05ab7-a611-44b3-a613-9e938a8610c7",
   "metadata": {},
   "source": [
    "### Tabela com alguns percentuais de uso padrão para aparação, de acordo com a aplicação\n",
    "Os valores foram fornecidos e explicados pelo ChatGPT"
   ]
  },
  {
   "cell_type": "markdown",
   "id": "2d99a330-4fbb-47b4-b527-836a7ceb3e40",
   "metadata": {},
   "source": [
    "| Aplicação | Percentual |\n",
    "|-----------|------------|\n",
    "| Estatísica Descritiva | 2,5% a 5% |\n",
    "| Dados assimétricos | 10% a 20% |\n",
    "| Estudos muito sensíveis a extremos | 20% a 25% |"
   ]
  },
  {
   "cell_type": "markdown",
   "id": "07229847-4b57-4c75-8562-57ce55bf7831",
   "metadata": {},
   "source": [
    "### Executando o mesmo exemplo acima utilizando R puro sem funções internas ou bibliotecas externas\n",
    "\n",
    "Para utilizar o R em um Kernel Python3:\n",
    "\n",
    "1. instalar o pacote rpy2\n",
    "2. iniciar o comando %load_ext rpy2.ipython\n",
    "3. sempre que criar um código R é preciso iniciar a célula com %%R"
   ]
  },
  {
   "cell_type": "code",
   "execution_count": 64,
   "id": "37ddad76-d45d-4794-be39-2bf12c718257",
   "metadata": {},
   "outputs": [
    {
     "name": "stdout",
     "output_type": "stream",
     "text": [
      "Collecting rpy2\n",
      "  Downloading rpy2-3.6.4-py3-none-any.whl.metadata (5.4 kB)\n",
      "Collecting rpy2-rinterface>=3.6.3 (from rpy2)\n",
      "  Downloading rpy2_rinterface-3.6.3-cp313-cp313-win_amd64.whl.metadata (1.9 kB)\n",
      "Collecting rpy2-robjects>=3.6.3 (from rpy2)\n",
      "  Downloading rpy2_robjects-3.6.3-py3-none-any.whl.metadata (3.3 kB)\n",
      "Requirement already satisfied: packaging in c:\\users\\saras\\appdata\\local\\programs\\python\\python313\\lib\\site-packages (from rpy2) (25.0)\n",
      "Requirement already satisfied: cffi>=1.15.1 in c:\\users\\saras\\appdata\\local\\programs\\python\\python313\\lib\\site-packages (from rpy2-rinterface>=3.6.3->rpy2) (2.0.0)\n",
      "Requirement already satisfied: pycparser in c:\\users\\saras\\appdata\\local\\programs\\python\\python313\\lib\\site-packages (from cffi>=1.15.1->rpy2-rinterface>=3.6.3->rpy2) (2.23)\n",
      "Requirement already satisfied: jinja2 in c:\\users\\saras\\appdata\\local\\programs\\python\\python313\\lib\\site-packages (from rpy2-robjects>=3.6.3->rpy2) (3.1.6)\n",
      "Collecting tzlocal (from rpy2-robjects>=3.6.3->rpy2)\n",
      "  Downloading tzlocal-5.3.1-py3-none-any.whl.metadata (7.6 kB)\n",
      "Requirement already satisfied: MarkupSafe>=2.0 in c:\\users\\saras\\appdata\\local\\programs\\python\\python313\\lib\\site-packages (from jinja2->rpy2-robjects>=3.6.3->rpy2) (3.0.3)\n",
      "Requirement already satisfied: tzdata in c:\\users\\saras\\appdata\\local\\programs\\python\\python313\\lib\\site-packages (from tzlocal->rpy2-robjects>=3.6.3->rpy2) (2025.2)\n",
      "Downloading rpy2-3.6.4-py3-none-any.whl (9.9 kB)\n",
      "Downloading rpy2_rinterface-3.6.3-cp313-cp313-win_amd64.whl (174 kB)\n",
      "Downloading rpy2_robjects-3.6.3-py3-none-any.whl (125 kB)\n",
      "Downloading tzlocal-5.3.1-py3-none-any.whl (18 kB)\n",
      "Installing collected packages: tzlocal, rpy2-rinterface, rpy2-robjects, rpy2\n",
      "\n",
      "   ---------- ----------------------------- 1/4 [rpy2-rinterface]\n",
      "   -------------------- ------------------- 2/4 [rpy2-robjects]\n",
      "   -------------------- ------------------- 2/4 [rpy2-robjects]\n",
      "   ---------------------------------------- 4/4 [rpy2]\n",
      "\n",
      "Successfully installed rpy2-3.6.4 rpy2-rinterface-3.6.3 rpy2-robjects-3.6.3 tzlocal-5.3.1\n"
     ]
    }
   ],
   "source": [
    "!pip install rpy2"
   ]
  },
  {
   "cell_type": "code",
   "execution_count": 66,
   "id": "74c4483a-e4cd-45f0-903a-07eb69b008ee",
   "metadata": {},
   "outputs": [
    {
     "name": "stdout",
     "output_type": "stream",
     "text": [
      "The rpy2.ipython extension is already loaded. To reload it, use:\n",
      "  %reload_ext rpy2.ipython\n"
     ]
    }
   ],
   "source": [
    "import os\n",
    "os.environ[\"RPY2_CFFI_MODE\"] = \"ABI\"\n",
    "%load_ext rpy2.ipython"
   ]
  },
  {
   "cell_type": "code",
   "execution_count": 67,
   "id": "8b87bf2e-02c4-4ab7-a1dd-496a8c374776",
   "metadata": {},
   "outputs": [
    {
     "name": "stdout",
     "output_type": "stream",
     "text": [
      "[1] 19.96667\n"
     ]
    }
   ],
   "source": [
    "%%R\n",
    "dados <- c(12, 15, 14, 13, 16, 18, 20, 22, 19, 17, 14, 13, 15, 16, 200, 21, 23, 24, 22, 18, 17, 16, 15, 14, 13, 12, 11, 10, 9, -50)\n",
    "soma <- 0\n",
    "media <- 0\n",
    "for (dado in dados){\n",
    "    soma <- soma + dado\n",
    "}\n",
    "media <- soma/length(dados)\n",
    "print(media)"
   ]
  },
  {
   "cell_type": "code",
   "execution_count": 87,
   "id": "c99479ec-5949-4ef1-976f-b903dc39ffae",
   "metadata": {},
   "outputs": [],
   "source": [
    "%%R\n",
    "tamanho <- length(dados)\n",
    "aparacao <-as.integer( 0.0666 * tamanho)\n",
    "ordenados <- sort(dados)"
   ]
  },
  {
   "cell_type": "code",
   "execution_count": 85,
   "id": "569795d7-b212-43e1-a6e5-17706a207b2d",
   "metadata": {},
   "outputs": [
    {
     "name": "stdout",
     "output_type": "stream",
     "text": [
      "[1] 16.03571\n"
     ]
    }
   ],
   "source": [
    "%%R\n",
    "tamanho_aparacao <- as.integer(tamanho - aparacao)\n",
    "dados_aparados <- ordenados[(aparacao + 1):(tamanho_aparacao)]\n",
    "\n",
    "soma_ap <- 0\n",
    "media_ap <- 0\n",
    "\n",
    "for(d in dados_aparados){\n",
    "    soma_ap <- soma_ap + d\n",
    "}\n",
    "media_ap <- soma_ap/length(dados_aparados)\n",
    "print(media_ap)"
   ]
  },
  {
   "cell_type": "markdown",
   "id": "c819255b-bdf4-4016-bc2c-70215efbb781",
   "metadata": {},
   "source": [
    "### Análise dos resultados\n",
    "\n",
    "**Texto corrigido pelo ChatGPT:**\n",
    "\n",
    "Tanto em R quanto em Python, obtive o mesmo resultado para a média aritmética (19,97) e para a média aparada (16,03).\n",
    "\n",
    "A escolha de qual média utilizar na análise exploratória depende do contexto e das características dos dados. Existem casos em que valores extremos, ainda que fora do padrão, são relevantes e devem ser mantidos; em outros, sua presença pode distorcer significativamente as estimativas e comprometer a interpretação dos resultados.\n",
    "\n",
    "Por isso, recomendo calcular ambas as médias quando houver suspeita de outliers. Se optar por manter a média aritmética, é importante mencionar a existência dos valores extremos e mostrá-los visualmente, por exemplo, por meio de um boxplot.\n",
    "\n",
    "O que não é recomendável é apresentar a média como uma medida absoluta e representativa do conjunto de dados sem considerar outras estatísticas descritivas e a possível influência dos outliers.\n",
    "\n",
    "**Texto original:**\n",
    "\n",
    "Ambas linguagens R e Python deram o mesmo resultado para a média aritmética: 19.97 e média aparada: 16.03. Fica a pergunta: Qual média utilizar para continudade da análise exploratória? A resposta é: Depende da análise e dos dados, afinal há valores extremos que ainda sendo extremos é importante mantê-los, como há outros que sua permanência pode alterar significativamente os resultados posteriores. Aconselho realizar as duas médias se for o caso, e na escolha de manter a média aritmética faça referência aos outliers e os mostre visualmente pelo Boxplot. O que não recomendo é dar o média como valor absoluto e representativo dos dados, é preciso considerar outras medidas."
   ]
  },
  {
   "cell_type": "markdown",
   "id": "d7572e81-0239-4aa8-b064-21cd68f94ca6",
   "metadata": {},
   "source": [
    "## Média Ponderada"
   ]
  },
  {
   "cell_type": "markdown",
   "id": "358bffdb-d6eb-418b-94da-15df54f6a3ca",
   "metadata": {},
   "source": [
    "## Mediana"
   ]
  },
  {
   "cell_type": "markdown",
   "id": "62c90ab9-8a9b-44b3-951b-fcd9c7cb3b4b",
   "metadata": {},
   "source": [
    "## Mediana Ponderada"
   ]
  },
  {
   "cell_type": "code",
   "execution_count": null,
   "id": "8a62a328-b05f-4ea6-8227-8d39aa8fb9e0",
   "metadata": {},
   "outputs": [],
   "source": []
  }
 ],
 "metadata": {
  "kernelspec": {
   "display_name": "Python 3 (ipykernel)",
   "language": "python",
   "name": "python3"
  },
  "language_info": {
   "codemirror_mode": {
    "name": "ipython",
    "version": 3
   },
   "file_extension": ".py",
   "mimetype": "text/x-python",
   "name": "python",
   "nbconvert_exporter": "python",
   "pygments_lexer": "ipython3",
   "version": "3.13.7"
  }
 },
 "nbformat": 4,
 "nbformat_minor": 5
}
